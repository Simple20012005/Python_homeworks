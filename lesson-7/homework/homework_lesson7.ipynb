{
 "cells": [
  {
   "cell_type": "markdown",
   "id": "b1e32be4",
   "metadata": {},
   "source": [
    "1. is_prime(n) funksiyasi"
   ]
  },
  {
   "cell_type": "code",
   "execution_count": 11,
   "id": "9c9678d3",
   "metadata": {},
   "outputs": [
    {
     "name": "stdout",
     "output_type": "stream",
     "text": [
      "Yes\n"
     ]
    }
   ],
   "source": [
    "def is_prime(n):\n",
    "    iss_prime=True\n",
    "    if n<2:\n",
    "        iss_prime=False\n",
    "    else:\n",
    "        for x in range(2,n):\n",
    "             if n % x == 0:\n",
    "                 iss_prime=False\n",
    "                 break\n",
    "\n",
    "    if iss_prime:\n",
    "        print('Yes')\n",
    "    else:\n",
    "        print('NO')\n",
    "\n",
    "is_prime(7)"
   ]
  },
  {
   "cell_type": "markdown",
   "id": "a5c2bfeb",
   "metadata": {},
   "source": [
    "2. digit_sum(k) funksiyasi"
   ]
  },
  {
   "cell_type": "code",
   "execution_count": 26,
   "id": "c4496057",
   "metadata": {},
   "outputs": [
    {
     "data": {
      "text/plain": [
       "3"
      ]
     },
     "execution_count": 26,
     "metadata": {},
     "output_type": "execute_result"
    }
   ],
   "source": [
    "def digit_sum(k):\n",
    "    listd=[int(x) for x in str(k)]\n",
    "    return sum(listd)\n",
    "digit_sum(12)\n"
   ]
  },
  {
   "cell_type": "markdown",
   "id": "4b61a3a8",
   "metadata": {},
   "source": [
    "3. Ikki sonning darajalari"
   ]
  },
  {
   "cell_type": "code",
   "execution_count": 32,
   "id": "99dbb17c",
   "metadata": {},
   "outputs": [
    {
     "name": "stdout",
     "output_type": "stream",
     "text": [
      "2 4 8 16 32 64 128 256 512 1024 "
     ]
    }
   ],
   "source": [
    "def dilshodbek(N):\n",
    "    import itertools\n",
    "\n",
    "    for x in itertools.count(1):\n",
    "        if pow(2,x)<N:\n",
    "            print(pow(2,x) ,end=' ')\n",
    "        else:\n",
    "            break\n",
    "\n",
    "dilshodbek(1025)"
   ]
  }
 ],
 "metadata": {
  "kernelspec": {
   "display_name": "Python 3",
   "language": "python",
   "name": "python3"
  },
  "language_info": {
   "codemirror_mode": {
    "name": "ipython",
    "version": 3
   },
   "file_extension": ".py",
   "mimetype": "text/x-python",
   "name": "python",
   "nbconvert_exporter": "python",
   "pygments_lexer": "ipython3",
   "version": "3.12.9"
  }
 },
 "nbformat": 4,
 "nbformat_minor": 5
}
