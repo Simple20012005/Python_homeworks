{
 "cells": [
  {
   "cell_type": "markdown",
   "id": "9525a391",
   "metadata": {},
   "source": [
    "Object-Oriented Programming (OOP) Exercises"
   ]
  },
  {
   "cell_type": "markdown",
   "id": "335ccade",
   "metadata": {},
   "source": [
    "1. Circle Class"
   ]
  },
  {
   "cell_type": "code",
   "execution_count": 1,
   "id": "2445ce7d",
   "metadata": {},
   "outputs": [],
   "source": [
    "import math\n",
    "\n",
    "\n",
    "class circle:\n",
    "    def __init__(self,radius):\n",
    "        self.radius=radius\n",
    "    def area(self):\n",
    "        return math.pi*(self.radius**2)\n",
    "    def perimetr(self):\n",
    "        return 2*math.pi*self.radius"
   ]
  },
  {
   "cell_type": "code",
   "execution_count": 10,
   "id": "d20ff5de",
   "metadata": {},
   "outputs": [
    {
     "name": "stdout",
     "output_type": "stream",
     "text": [
      "Radius:  1001\n",
      "Area:  3147878.98\n",
      "Perimert:  6289.47\n"
     ]
    }
   ],
   "source": [
    "c1 = circle(5)\n",
    "c2=circle(1001)\n",
    "\n",
    "print('Radius: ',c2.radius)\n",
    "print(\"Area: \",round(c2.area(),2))\n",
    "print(\"Perimert: \",round(c2.perimetr(),2))\n"
   ]
  },
  {
   "cell_type": "markdown",
   "id": "5cb71227",
   "metadata": {},
   "source": [
    "2. Person Class"
   ]
  },
  {
   "cell_type": "code",
   "execution_count": 18,
   "id": "4d551e91",
   "metadata": {},
   "outputs": [],
   "source": [
    "import datetime\n",
    "from dateutil.relativedelta import relativedelta\n",
    "\n",
    "class Person:\n",
    "    def __init__(self, name, country, date_of_birth):\n",
    "        self.name = name\n",
    "        self.country = country\n",
    "        # date_of_birth ni string emas, datetime.date shaklida saqlaymiz\n",
    "        self.date_of_birth = datetime.datetime.strptime(date_of_birth, \"%Y-%m-%d\").date()\n",
    "    \n",
    "    def age(self):\n",
    "        today = datetime.date.today()\n",
    "        diff = relativedelta(today, self.date_of_birth)\n",
    "        return diff.years\n"
   ]
  },
  {
   "cell_type": "code",
   "execution_count": 22,
   "id": "ef997a5d",
   "metadata": {},
   "outputs": [
    {
     "data": {
      "text/plain": [
       "19"
      ]
     },
     "execution_count": 22,
     "metadata": {},
     "output_type": "execute_result"
    }
   ],
   "source": [
    "p1=Person(\"Dilshodbek\",\"Uzbekistan\",\"2005-09-12\")\n",
    "\n",
    "p1.age()"
   ]
  },
  {
   "cell_type": "markdown",
   "id": "339d6408",
   "metadata": {},
   "source": [
    "3.Calculator Class"
   ]
  },
  {
   "cell_type": "code",
   "execution_count": 8,
   "id": "d2954a20",
   "metadata": {},
   "outputs": [],
   "source": [
    "class calculator:\n",
    "    def __init__(self,a,b):\n",
    "        self.a=a\n",
    "        self.b=b\n",
    "    def subtract(self):\n",
    "        return self.a-self.b\n",
    "    def add(self):\n",
    "        return self.a+self.b\n",
    "    def multiply(self):\n",
    "        return self.a*self.b\n",
    "    def divide(self):\n",
    "        if self.b!=0:\n",
    "            self.a/self.b\n",
    "        else:\n",
    "            return \"Error! Division by zero.\"\n",
    "    "
   ]
  },
  {
   "cell_type": "code",
   "execution_count": 9,
   "id": "8014361f",
   "metadata": {},
   "outputs": [
    {
     "name": "stdout",
     "output_type": "stream",
     "text": [
      "55\n",
      "55\n",
      "0\n",
      "Error! Division by zero.\n"
     ]
    }
   ],
   "source": [
    "num1=calculator(55,0)\n",
    "print(num1.subtract())\n",
    "print(num1.add())\n",
    "print(num1.multiply())\n",
    "print(num1.divide())"
   ]
  },
  {
   "cell_type": "code",
   "execution_count": null,
   "id": "a656fed7",
   "metadata": {},
   "outputs": [],
   "source": [
    "import math\n",
    "\n",
    "\n",
    "class circle:\n",
    "    def __init__(self,radius):\n",
    "        self.radius=radius\n",
    "    def area(self):\n",
    "        return math.pi*(self.radius**2)\n",
    "    def perimetr(self):\n",
    "        return 2*math.pi*self.radius"
   ]
  },
  {
   "cell_type": "markdown",
   "id": "c3e62a03",
   "metadata": {},
   "source": [
    "4. Shape and Subclasses"
   ]
  },
  {
   "cell_type": "code",
   "execution_count": 30,
   "id": "a5c0c9c5",
   "metadata": {},
   "outputs": [],
   "source": [
    "import math\n",
    "\n",
    "class shapes:\n",
    "    def __init__(self):\n",
    "        return 0\n",
    "    \n",
    "\n",
    "class Circle(shapes):\n",
    "    def __init__(self,radius):\n",
    "        self.radius=radius\n",
    "    def perimeter(self):\n",
    "        return math.pi*2*self.radius\n",
    "    def area(self):\n",
    "        return math.pi*self.radius**2\n",
    "    \n",
    "\n",
    "class Square(shapes):\n",
    "    def __init__(self,x):\n",
    "        self.x=x\n",
    "    def perimeter(self):\n",
    "        return 4*self.x\n",
    "    def area(self):\n",
    "        return self.x**2\n",
    "    \n",
    "\n",
    "class Triangle(shapes):\n",
    "    def __init__(self,a,b,c):\n",
    "        self.a=a\n",
    "        self.b=b\n",
    "        self.c=c\n",
    "    def perimeter(self):\n",
    "        return self.a+self.b+self.c\n",
    "    def area(self):\n",
    "        s=self.perimeter()/2\n",
    "        return math.sqrt(s*(s-self.a)*(s-self.b)*(s-self.c))\n",
    "    \n",
    "\n",
    "    \n",
    "        "
   ]
  },
  {
   "cell_type": "code",
   "execution_count": 31,
   "id": "f2e76b73",
   "metadata": {},
   "outputs": [
    {
     "name": "stdout",
     "output_type": "stream",
     "text": [
      "Circle -> Area: 78.53981633974483\n",
      "Circle -> Perimeter: 31.41592653589793\n",
      "Square -> Area: 16\n",
      "Square -> Perimeter: 16\n",
      "Triangle -> Area: 6.0\n",
      "Triangle -> Perimeter: 12\n"
     ]
    }
   ],
   "source": [
    "c = Circle(5)\n",
    "print(\"Circle -> Area:\", c.area())\n",
    "print(\"Circle -> Perimeter:\", c.perimeter())\n",
    "\n",
    "# Kvadrat\n",
    "s = Square(4)\n",
    "print(\"Square -> Area:\", s.area())\n",
    "print(\"Square -> Perimeter:\", s.perimeter())\n",
    "\n",
    "# Uchburchak\n",
    "t = Triangle(3, 4, 5)\n",
    "print(\"Triangle -> Area:\", t.area())\n",
    "print(\"Triangle -> Perimeter:\", t.perimeter())"
   ]
  },
  {
   "cell_type": "markdown",
   "id": "d49839c2",
   "metadata": {},
   "source": [
    "5. Binary Search Tree Class"
   ]
  },
  {
   "cell_type": "code",
   "execution_count": 2,
   "id": "e557b8bf",
   "metadata": {},
   "outputs": [],
   "source": [
    "class Node:\n",
    "    def __init__(self, data):\n",
    "        self.data = data    # qiymat\n",
    "        self.left = None    # chap bola\n",
    "        self.right = None   # o'ng bola\n",
    "\n",
    "\n",
    "# Binary Search Tree klassi\n",
    "class BinarySearchTree:\n",
    "    def __init__(self):\n",
    "        self.root = None    # daraxt boshida bo'sh bo'ladi\n",
    "\n",
    "    # Element qo'shish\n",
    "    def insert(self, data):\n",
    "        if self.root is None:       # agar daraxt bo'sh bo'lsa\n",
    "            self.root = Node(data)\n",
    "        else:\n",
    "            self._insert(self.root, data)\n",
    "\n",
    "    # Rekursiv qo'shish yordamchi metodi\n",
    "    def _insert(self, current, data):\n",
    "        if data < current.data:   # agar yangi qiymat kichik bo'lsa - chapga\n",
    "            if current.left is None:\n",
    "                current.left = Node(data)\n",
    "            else:\n",
    "                self._insert(current.left, data)\n",
    "        elif data > current.data: # agar katta bo'lsa - o'ngga\n",
    "            if current.right is None:\n",
    "                current.right = Node(data)\n",
    "            else:\n",
    "                self._insert(current.right, data)\n",
    "\n",
    "    # Element qidirish\n",
    "    def search(self, data):\n",
    "        return self._search(self.root, data)\n",
    "\n",
    "    # Rekursiv qidirish yordamchi metodi\n",
    "    def _search(self, current, data):\n",
    "        if current is None:           # agar daraxt bo'sh yoki tugun topilmasa\n",
    "            return False\n",
    "        if current.data == data:      # qiymat topildi\n",
    "            return True\n",
    "        elif data < current.data:     # chap tarafda izlash\n",
    "            return self._search(current.left, data)\n",
    "        else:                         # o'ng tarafda izlash\n",
    "            return self._search(current.right, data)"
   ]
  },
  {
   "cell_type": "markdown",
   "id": "5608fe84",
   "metadata": {},
   "source": [
    "6. Stack Data Structure"
   ]
  },
  {
   "cell_type": "code",
   "execution_count": 32,
   "id": "e29da2b7",
   "metadata": {},
   "outputs": [],
   "source": [
    "class Stack:\n",
    "    def __init__(self):\n",
    "        self.items = []   # Stackni list yordamida yaratamiz\n",
    "    \n",
    "    def push(self, item):\n",
    "        \"\"\"Stackka element qo‘shish\"\"\"\n",
    "        self.items.append(item)\n",
    "    \n",
    "    def pop(self):\n",
    "        \"\"\"Stackdan oxirgi elementni o‘chirish va qaytarish\"\"\"\n",
    "        if not self.is_empty():\n",
    "            return self.items.pop()\n",
    "        else:\n",
    "            return \"Stack bo‘sh!\"\n",
    "    \n",
    "    def peek(self):\n",
    "        \"\"\"Stackdagi oxirgi elementni ko‘rsatish (o‘chirib tashlamasdan)\"\"\"\n",
    "        if not self.is_empty():\n",
    "            return self.items[-1]\n",
    "        else:\n",
    "            return \"Stack bo‘sh!\"\n",
    "    \n",
    "    def is_empty(self):\n",
    "        \"\"\"Stack bo‘shligini tekshirish\"\"\"\n",
    "        return len(self.items) == 0\n",
    "    \n",
    "    def size(self):\n",
    "        \"\"\"Stackdagi elementlar soni\"\"\"\n",
    "        return len(self.items)\n"
   ]
  },
  {
   "cell_type": "code",
   "execution_count": 33,
   "id": "6b6cb668",
   "metadata": {},
   "outputs": [
    {
     "name": "stdout",
     "output_type": "stream",
     "text": [
      "Stack hajmi: 3\n",
      "Oxirgi element: 30\n",
      "O'chirildi: 30\n",
      "O'chirildi: 20\n",
      "Stack bo‘shmi? False\n",
      "O'chirildi: 10\n",
      "Stack bo‘shmi? True\n"
     ]
    }
   ],
   "source": [
    "stack = Stack()\n",
    "\n",
    "stack.push(10)\n",
    "stack.push(20)\n",
    "stack.push(30)\n",
    "\n",
    "print(\"Stack hajmi:\", stack.size())     # 3\n",
    "print(\"Oxirgi element:\", stack.peek())  # 30\n",
    "\n",
    "print(\"O'chirildi:\", stack.pop())       # 30\n",
    "print(\"O'chirildi:\", stack.pop())       # 20\n",
    "\n",
    "print(\"Stack bo‘shmi?\", stack.is_empty())  # False\n",
    "print(\"O'chirildi:\", stack.pop())          # 10\n",
    "print(\"Stack bo‘shmi?\", stack.is_empty())  # True\n"
   ]
  },
  {
   "cell_type": "markdown",
   "id": "4fd0ebed",
   "metadata": {},
   "source": [
    "7. Linked List Data Structure"
   ]
  },
  {
   "cell_type": "code",
   "execution_count": 1,
   "id": "3ffa9984",
   "metadata": {},
   "outputs": [],
   "source": [
    "class Node:\n",
    "    def __init__(self, data):\n",
    "        self.data = data   # tugun qiymati\n",
    "        self.next = None   # keyingi tugunga ishora\n",
    "\n",
    "\n",
    "# Linked List klassi\n",
    "class LinkedList:\n",
    "    def __init__(self):\n",
    "        self.head = None   # boshida ro'yxat bo'sh bo'ladi\n",
    "\n",
    "    # Element qo'shish (oxiriga qo'shadi)\n",
    "    def insert(self, data):\n",
    "        new_node = Node(data)\n",
    "        if self.head is None:   # agar ro'yxat bo'sh bo'lsa\n",
    "            self.head = new_node\n",
    "        else:\n",
    "            temp = self.head\n",
    "            while temp.next:    # oxirigacha yurish\n",
    "                temp = temp.next\n",
    "            temp.next = new_node\n",
    "\n",
    "    # Elementlarni ko'rsatish\n",
    "    def display(self):\n",
    "        if self.head is None:\n",
    "            print(\"Ro'yxat bo'sh\")\n",
    "        else:\n",
    "            temp = self.head\n",
    "            while temp:\n",
    "                print(temp.data, end=\" -> \")\n",
    "                temp = temp.next\n",
    "            print(\"None\")\n",
    "\n",
    "    # Element o'chirish\n",
    "    def delete(self, key):\n",
    "        temp = self.head\n",
    "\n",
    "        # Agar bosh tugun o'chirilsa\n",
    "        if temp and temp.data == key:\n",
    "            self.head = temp.next\n",
    "            temp = None\n",
    "            return\n",
    "\n",
    "        # Boshqa joydagi tugunni qidirish\n",
    "        prev = None\n",
    "        while temp and temp.data != key:\n",
    "            prev = temp\n",
    "            temp = temp.next\n",
    "\n",
    "        # Agar element topilmasa\n",
    "        if temp is None:\n",
    "            print(f\"{key} topilmadi\")\n",
    "            return\n",
    "\n",
    "        # Elementni o'chirish\n",
    "        prev.next = temp.next\n",
    "        temp = None"
   ]
  },
  {
   "cell_type": "markdown",
   "id": "fbcc224a",
   "metadata": {},
   "source": [
    "8. Shopping Cart Class"
   ]
  },
  {
   "cell_type": "code",
   "execution_count": null,
   "id": "3897b4bc",
   "metadata": {},
   "outputs": [],
   "source": [
    "class ShoppingCart:\n",
    "    def __init__(self):\n",
    "        self.my_dict={}\n",
    "\n",
    "    def add_product(self,product,price,quantity):\n",
    "        if product in self.my_dict:\n",
    "            self.my_dict[product][\"quantity\"]+=quantity\n",
    "        else: \n",
    "            self.my_dict.update({product:{\"price\":price,\"quantity\":quantity}})\n",
    "\n",
    "    def remove_product(self,product):\n",
    "        if product in self.my_dict:\n",
    "            self.my_dict.pop(product)\n",
    "        else:\n",
    "            print(f'{product} savatda yo`q')\n",
    "\n",
    "    def total(self,product):\n",
    "        if product in self.my_dict:\n",
    "            return self.my_dict[product][\"quantity\"]*self.my_dict[product][\"price\"]\n",
    "        return 0\n",
    "    \n",
    "    def total_cart(self):\n",
    "        return sum(item[\"price\"] * item[\"quantity\"] for item in self.my_dict.values())\n"
   ]
  },
  {
   "cell_type": "code",
   "execution_count": 36,
   "id": "f49535ff",
   "metadata": {},
   "outputs": [
    {
     "name": "stdout",
     "output_type": "stream",
     "text": [
      "Apple total: 10\n",
      "Cart total: 16\n",
      "Apple total: 30\n",
      "Cart total: 36\n"
     ]
    }
   ],
   "source": [
    "cart = ShoppingCart()\n",
    "cart.add_product(\"Apple\", 2, 5)\n",
    "cart.add_product(\"Banana\", 3, 2)\n",
    "\n",
    "print(\"Apple total:\", cart.total(\"Apple\"))  # 10\n",
    "print(\"Cart total:\", cart.total_cart())     # 16\n",
    "\n",
    "cart.add_product(\"Apple\", 2, 5)\n",
    "cart.add_product(\"Apple\", 2, 5)\n",
    "\n",
    "print(\"Apple total:\", cart.total(\"Apple\"))  # 10\n",
    "print(\"Cart total:\", cart.total_cart())     # 16\n",
    "\n",
    "\n",
    "\n"
   ]
  },
  {
   "cell_type": "markdown",
   "id": "d9eccef3",
   "metadata": {},
   "source": [
    "9. Stack with Display"
   ]
  },
  {
   "cell_type": "code",
   "execution_count": 1,
   "id": "33b9608d",
   "metadata": {},
   "outputs": [],
   "source": [
    "class Stack:\n",
    "    def __init__(self):\n",
    "        self.items = []   # Stackni list yordamida yaratamiz\n",
    "    \n",
    "    def push(self, item):\n",
    "        \"\"\"Stackka element qo‘shish\"\"\"\n",
    "        self.items.append(item)\n",
    "    \n",
    "    def pop(self):\n",
    "        \"\"\"Stackdan oxirgi elementni o‘chirish va qaytarish\"\"\"\n",
    "        if not self.is_empty():\n",
    "            return self.items.pop()\n",
    "        else:\n",
    "            return \"Stack bo‘sh!\"\n",
    "    \n",
    "    def peek(self):\n",
    "        \"\"\"Stackdagi oxirgi elementni ko‘rsatish (o‘chirib tashlamasdan)\"\"\"\n",
    "        if not self.is_empty():\n",
    "            return self.items[-1]\n",
    "        else:\n",
    "            return \"Stack bo‘sh!\"\n",
    "    \n",
    "    def is_empty(self):\n",
    "        \"\"\"Stack bo‘shligini tekshirish\"\"\"\n",
    "        return len(self.items) == 0\n",
    "    \n",
    "    def size(self):\n",
    "        \"\"\"Stackdagi elementlar soni\"\"\"\n",
    "        return len(self.items)\n",
    "    def display(self):\n",
    "        for item in reversed(self.items):\n",
    "            print(item)"
   ]
  },
  {
   "cell_type": "code",
   "execution_count": 2,
   "id": "e3a8e550",
   "metadata": {},
   "outputs": [
    {
     "name": "stdout",
     "output_type": "stream",
     "text": [
      "30\n",
      "20\n",
      "10\n",
      "Oxirgi element: 30\n",
      "Chiqarildi: 30\n",
      "20\n",
      "10\n"
     ]
    }
   ],
   "source": [
    "stack = Stack()\n",
    "stack.push(10)\n",
    "stack.push(20)\n",
    "stack.push(30)\n",
    "\n",
    "stack.display()   # 30, 20, 10 chiqadi\n",
    "print(\"Oxirgi element:\", stack.peek())  \n",
    "print(\"Chiqarildi:\", stack.pop())  \n",
    "stack.display()   # 20, 10 chiqadi\n"
   ]
  },
  {
   "cell_type": "markdown",
   "id": "4785b976",
   "metadata": {},
   "source": [
    "10. Queue Data Structure"
   ]
  },
  {
   "cell_type": "code",
   "execution_count": null,
   "id": "7ef59245",
   "metadata": {},
   "outputs": [],
   "source": [
    "class Queue:\n",
    "    def __init__(self):\n",
    "        self.items = []   # Stackni list yordamida yaratamiz\n",
    "    \n",
    "    def enqueue(self, item):\n",
    "        \"\"\"Queuega element qo‘shish\"\"\"\n",
    "        self.items.append(item)\n",
    "    \n",
    "    def dequeue(self):\n",
    "        \"\"\"Queuedan birinchi elementni o‘chirish va qaytarish\"\"\"\n",
    "        if not self.is_empty():\n",
    "            return self.items.pop(0)\n",
    "        else:\n",
    "            return \"Queue bo‘sh!\"\n",
    "    \n",
    "    def peek(self):\n",
    "        \"\"\"Queuedagi birinchi elementni ko‘rsatish (o‘chirib tashlamasdan)\"\"\"\n",
    "        if not self.is_empty():\n",
    "            return self.items[0]\n",
    "        else:\n",
    "            return \"Queue bo‘sh!\"\n",
    "    \n",
    "    def is_empty(self):\n",
    "        \"\"\"Queue bo‘shligini tekshirish\"\"\"\n",
    "        return len(self.items) == 0\n",
    "    \n",
    "    def size(self):\n",
    "        \"\"\"Queuedagi elementlar soni\"\"\"\n",
    "        return len(self.items)\n",
    "   "
   ]
  },
  {
   "cell_type": "markdown",
   "id": "b88d45ab",
   "metadata": {},
   "source": [
    "11. Bank Class"
   ]
  },
  {
   "cell_type": "code",
   "execution_count": null,
   "id": "599b6a20",
   "metadata": {},
   "outputs": [
    {
     "data": {
      "text/plain": [
       "5"
      ]
     },
     "execution_count": 16,
     "metadata": {},
     "output_type": "execute_result"
    }
   ],
   "source": [
    "class Bank:\n",
    "    def __init__(self):\n",
    "        self.customers={}\n",
    "    \n",
    "    def add_customer(self,customer):\n",
    "        if customer in self.customers:\n",
    "            return 0\n",
    "        else:\n",
    "            self.customers.update({customer:0})\n",
    "    \n",
    "    def deposit(self,customer,amount):\n",
    "        if customer in self.customers:\n",
    "            self.customers[customer]+=amount\n",
    "        else:\n",
    "            self.customers.update({customer:amount})\n",
    "    \n",
    "    def withdraw(self,customer,amount):\n",
    "        if customer in self.customers:\n",
    "            if self.customers[customer]>=amount:\n",
    "                self.customers[customer]-=amount\n",
    "            else:\n",
    "                return \"Balance yetarli emas\"\n",
    "        else:\n",
    "            return f\"{customer} topilmadi\"\n",
    "        \n",
    "    def checkbalance(self,customer):\n",
    "        if customer in self.customers:\n",
    "            return f\"{customer} balansida {self.customers[customer]} pul bor\"\n",
    "        else:\n",
    "            return f\"{customer} topilmadi\"\n",
    "\n",
    "        \n",
    "    \n",
    "\n",
    "\n"
   ]
  }
 ],
 "metadata": {
  "kernelspec": {
   "display_name": "Python 3",
   "language": "python",
   "name": "python3"
  },
  "language_info": {
   "codemirror_mode": {
    "name": "ipython",
    "version": 3
   },
   "file_extension": ".py",
   "mimetype": "text/x-python",
   "name": "python",
   "nbconvert_exporter": "python",
   "pygments_lexer": "ipython3",
   "version": "3.12.9"
  }
 },
 "nbformat": 4,
 "nbformat_minor": 5
}
