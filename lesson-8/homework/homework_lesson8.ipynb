{
 "cells": [
  {
   "cell_type": "markdown",
   "id": "57f019b0",
   "metadata": {},
   "source": [
    "Exception Handling Exercises"
   ]
  },
  {
   "cell_type": "markdown",
   "id": "883c0cd3",
   "metadata": {},
   "source": [
    "1.Write a Python program to handle a ZeroDivisionError exception when dividing a number by zero."
   ]
  },
  {
   "cell_type": "code",
   "execution_count": 2,
   "id": "506a26e5",
   "metadata": {},
   "outputs": [
    {
     "name": "stdout",
     "output_type": "stream",
     "text": [
      "0.1\n"
     ]
    }
   ],
   "source": [
    "try:\n",
    "    number=int(input(\"Enter a number\"))\n",
    "    print(1/number)\n",
    "except ZeroDivisionError:\n",
    "    print(\"You can`t devide by zero\")\n"
   ]
  },
  {
   "cell_type": "markdown",
   "id": "e44bd372",
   "metadata": {},
   "source": [
    "2.Write a Python program that prompts the user to input an integer and raises a ValueError exception if the input is not a valid integer."
   ]
  },
  {
   "cell_type": "code",
   "execution_count": 4,
   "id": "60292544",
   "metadata": {},
   "outputs": [
    {
     "name": "stdout",
     "output_type": "stream",
     "text": [
      "10\n"
     ]
    }
   ],
   "source": [
    "try:\n",
    "    a=int(input(\"Enter a integer number\"))\n",
    "    print(a)\n",
    "except ValueError:\n",
    "    print(\"You number is not valid\")\n"
   ]
  },
  {
   "cell_type": "markdown",
   "id": "b0e09532",
   "metadata": {},
   "source": [
    "3.Write a Python program that opens a file and handles a FileNotFoundError exception if the file does not exist."
   ]
  },
  {
   "cell_type": "code",
   "execution_count": 4,
   "id": "caf8ed3b",
   "metadata": {},
   "outputs": [],
   "source": [
    "try:\n",
    "    f=open('x.txt',\"r\")\n",
    "except FileNotFoundError:\n",
    "    f=open('x.txt',\"w\")\n",
    "    f.write(\"Bu yangi fayl.\\n\")\n",
    "finally:\n",
    "    f.close()\n"
   ]
  },
  {
   "cell_type": "markdown",
   "id": "4bad1e63",
   "metadata": {},
   "source": [
    "4.Write a Python program that prompts the user to input two numbers and raises a TypeError exception if the inputs are not numerical."
   ]
  },
  {
   "cell_type": "code",
   "execution_count": 14,
   "id": "36552840",
   "metadata": {},
   "outputs": [
    {
     "name": "stdout",
     "output_type": "stream",
     "text": [
      "integer qiymat kiriting\n"
     ]
    }
   ],
   "source": [
    "try:\n",
    "    b=input('Qiymat kiriting')\n",
    "    a=int(input(\"Qiymat kiriting\"))\n",
    "    print(a+b) \n",
    "except TypeError:\n",
    "    print(\"integer qiymat kiriting\")"
   ]
  },
  {
   "cell_type": "markdown",
   "id": "97cee3dc",
   "metadata": {},
   "source": [
    "5.Write a Python program that opens a file and handles a PermissionError exception if there is a permission issue."
   ]
  },
  {
   "cell_type": "code",
   "execution_count": 18,
   "id": "e4d240ed",
   "metadata": {},
   "outputs": [
    {
     "name": "stdout",
     "output_type": "stream",
     "text": [
      "❌ Bu faylni o‘zgartirishga ruxsatingiz yo‘q!\n"
     ]
    }
   ],
   "source": [
    "try:\n",
    "    f = open(\"C:\\\\Windows\\\\system.ini\", \"w\")  # Windows tizim fayli\n",
    "    f.write(\"Test\")\n",
    "    f.close()\n",
    "except PermissionError:\n",
    "    print(\"❌ Bu faylni o‘zgartirishga ruxsatingiz yo‘q!\")"
   ]
  },
  {
   "cell_type": "markdown",
   "id": "d412bc69",
   "metadata": {},
   "source": [
    "6.Write a Python program that executes an operation on a list and handles an IndexError exception if the index is out of range."
   ]
  },
  {
   "cell_type": "code",
   "execution_count": 22,
   "id": "548ffe67",
   "metadata": {},
   "outputs": [
    {
     "name": "stdout",
     "output_type": "stream",
     "text": [
      "Enter a valid index\n"
     ]
    }
   ],
   "source": [
    "try:\n",
    "    list_1=[\"Apple\",\"Banana\",\"Limon\"]\n",
    "    print(list_1[5])\n",
    "except IndexError:\n",
    "    print(\"Enter a valid index\")"
   ]
  },
  {
   "cell_type": "markdown",
   "id": "189d7112",
   "metadata": {},
   "source": [
    "7.Write a Python program that prompts the user to input a number and handles a KeyboardInterrupt exception if the user cancels the input."
   ]
  },
  {
   "cell_type": "code",
   "execution_count": 4,
   "id": "7134a941",
   "metadata": {},
   "outputs": [
    {
     "name": "stdout",
     "output_type": "stream",
     "text": [
      "❌ Enter an integer!\n"
     ]
    }
   ],
   "source": [
    "try:\n",
    "    a=int(input())\n",
    "    print(f\"Your number is {a}\")\n",
    "except KeyboardInterrupt:\n",
    "    print(\"You must enter a number\")\n",
    "except ValueError:\n",
    "    print(\"❌ Enter an integer!\")"
   ]
  },
  {
   "cell_type": "markdown",
   "id": "36d8050d",
   "metadata": {},
   "source": [
    "8.Write a Python program that executes division and handles an ArithmeticError exception if there is an arithmetic error.\n",
    "\n"
   ]
  },
  {
   "cell_type": "code",
   "execution_count": 6,
   "id": "06b391cc",
   "metadata": {},
   "outputs": [
    {
     "name": "stdout",
     "output_type": "stream",
     "text": [
      "❌ Matematik xato:\n"
     ]
    }
   ],
   "source": [
    "try:\n",
    "    x = 10 / 0\n",
    "except ArithmeticError:\n",
    "    print(\"❌ Matematik xato:\")\n"
   ]
  },
  {
   "cell_type": "markdown",
   "id": "d13dde53",
   "metadata": {},
   "source": [
    "9.Write a Python program that opens a file and handles a UnicodeDecodeError exception if there is an encoding issue."
   ]
  },
  {
   "cell_type": "code",
   "execution_count": 40,
   "id": "1ebd0281",
   "metadata": {},
   "outputs": [
    {
     "name": "stdout",
     "output_type": "stream",
     "text": [
      "Fayl muvaffaqiyatli o‘qildi!\n",
      "A B C D E F G H I J\n",
      "K L M N O P Q R S T\n",
      "U V W X Y Z\n",
      "\n"
     ]
    }
   ],
   "source": [
    "file_path = r\"C:\\Users\\Asus\\Desktop\\result.txt\"\n",
    "\n",
    "try:\n",
    "    # UTF-8 kodirovkada ochishga urinish\n",
    "    with open(file_path, \"r\", encoding=\"utf-8\") as f:\n",
    "        content = f.read()\n",
    "    print(\"Fayl muvaffaqiyatli o‘qildi!\")\n",
    "    print(content)\n",
    "\n",
    "except UnicodeDecodeError:\n",
    "    print(\"⚠️ UnicodeDecodeError: Faylni UTF-8 da o‘qib bo‘lmadi.\")\n",
    "    \n"
   ]
  },
  {
   "cell_type": "markdown",
   "id": "a086e0e7",
   "metadata": {},
   "source": [
    "10.Write a Python program that executes a list operation and handles an AttributeError exception if the attribute does not exist."
   ]
  },
  {
   "cell_type": "code",
   "execution_count": 11,
   "id": "fd3677ef",
   "metadata": {},
   "outputs": [
    {
     "name": "stdout",
     "output_type": "stream",
     "text": [
      "Something was wrong\n"
     ]
    }
   ],
   "source": [
    "try:\n",
    "    list_2=[1,2,3,7,4,9,41,3,5,123]\n",
    "    list_2.sajd(3)\n",
    "except AttributeError:\n",
    "    print(\"Something was wrong\")"
   ]
  },
  {
   "cell_type": "markdown",
   "id": "9c2b1861",
   "metadata": {},
   "source": [
    "Python File Input Output: Exercises, Practice, Solution"
   ]
  },
  {
   "cell_type": "markdown",
   "id": "305a7d23",
   "metadata": {},
   "source": [
    "1.Write a Python program to read an entire text file."
   ]
  },
  {
   "cell_type": "code",
   "execution_count": 26,
   "id": "8e964604",
   "metadata": {},
   "outputs": [
    {
     "name": "stdout",
     "output_type": "stream",
     "text": [
      "Adam John Alice Patric DilshoodAdam\n",
      " John\n",
      " Alice\n",
      " Patric\n",
      " \n"
     ]
    }
   ],
   "source": [
    "file_path='C:\\\\Users\\\\Asus\\\\Desktop\\\\output.txt'\n",
    "\n",
    "with open(file_path,\"r\") as file:\n",
    "    print(file.read())"
   ]
  },
  {
   "cell_type": "markdown",
   "id": "7b3b7c77",
   "metadata": {},
   "source": [
    "2.Write a Python program to read first n lines of a file."
   ]
  },
  {
   "cell_type": "code",
   "execution_count": 47,
   "id": "485dce6b",
   "metadata": {},
   "outputs": [
    {
     "name": "stdout",
     "output_type": "stream",
     "text": [
      "['Adam John Alice Patric DilshoodAdam\\n', ' John\\n', ' Alice\\n']\n"
     ]
    }
   ],
   "source": [
    "file_path='C:\\\\Users\\\\Asus\\\\Desktop\\\\output.txt'\n",
    "\n",
    "with open(file_path,\"r\") as file:\n",
    "    a=int(input())\n",
    "    print(file.readlines()[:a])\n",
    "\n"
   ]
  },
  {
   "cell_type": "markdown",
   "id": "bc8254df",
   "metadata": {},
   "source": [
    "3.Write a Python program to append text to a file and display the text."
   ]
  },
  {
   "cell_type": "code",
   "execution_count": 28,
   "id": "e916b620",
   "metadata": {},
   "outputs": [
    {
     "name": "stdout",
     "output_type": "stream",
     "text": [
      "Adam John Alice Patric DilshoodAdam\n",
      " John\n",
      " Alice\n",
      " Patric\n",
      " AliAli\n"
     ]
    }
   ],
   "source": [
    "file_path='C:\\\\Users\\\\Asus\\\\Desktop\\\\output.txt'\n",
    "\n",
    "with open(file_path,\"a\") as file:\n",
    "    file.write(\"Ali\")\n",
    "\n",
    "with open(file_path,\"r\") as file:\n",
    "    print(file.read())"
   ]
  },
  {
   "cell_type": "markdown",
   "id": "50eb7c63",
   "metadata": {},
   "source": [
    "4.Write a Python program to read last n lines of a file."
   ]
  },
  {
   "cell_type": "code",
   "execution_count": 49,
   "id": "bf01a276",
   "metadata": {},
   "outputs": [
    {
     "name": "stdout",
     "output_type": "stream",
     "text": [
      "Alice\n",
      "Patric\n",
      "AliAli\n"
     ]
    }
   ],
   "source": [
    "file_path='C:\\\\Users\\\\Asus\\\\Desktop\\\\output.txt'\n",
    "\n",
    "with open(file_path,\"r\") as file:\n",
    "    \n",
    "    a=int(input())\n",
    "    last_lines=file.readlines()[-a:]\n",
    "    for x in last_lines:\n",
    "        print(x.strip())\n",
    "\n",
    "    "
   ]
  },
  {
   "cell_type": "markdown",
   "id": "4c8f15fb",
   "metadata": {},
   "source": [
    "5.Write a Python program to read a file line by line and store it into a list."
   ]
  },
  {
   "cell_type": "code",
   "execution_count": 50,
   "id": "12f8b0b2",
   "metadata": {},
   "outputs": [
    {
     "name": "stdout",
     "output_type": "stream",
     "text": [
      "['Adam John Alice Patric DilshoodAdam\\n', ' John\\n', ' Alice\\n', ' Patric\\n', ' AliAli']\n"
     ]
    }
   ],
   "source": [
    "file_path='C:\\\\Users\\\\Asus\\\\Desktop\\\\output.txt'\n",
    "\n",
    "with open(file_path,\"r\") as file:\n",
    "    lines=file.readlines()\n",
    "    print(lines)"
   ]
  },
  {
   "cell_type": "markdown",
   "id": "141d8c5c",
   "metadata": {},
   "source": [
    "6.Write a Python program to read a file line by line and store it into a variable."
   ]
  },
  {
   "cell_type": "code",
   "execution_count": 61,
   "id": "5fb6bf62",
   "metadata": {},
   "outputs": [
    {
     "name": "stdout",
     "output_type": "stream",
     "text": [
      "Adam John Alice Patric DilshoodAdam\n",
      " John\n",
      " Alice\n",
      " Patric\n",
      " AliAli\n"
     ]
    }
   ],
   "source": [
    "file_path='C:\\\\Users\\\\Asus\\\\Desktop\\\\output.txt'\n",
    "with open(file_path,\"r\") as file:\n",
    "    lines=file.read()\n",
    "    print(lines)"
   ]
  },
  {
   "cell_type": "markdown",
   "id": "c0569fcc",
   "metadata": {},
   "source": [
    "7.Write a Python program to read a file line by line and store it into an array."
   ]
  },
  {
   "cell_type": "code",
   "execution_count": null,
   "id": "db638b4a",
   "metadata": {},
   "outputs": [],
   "source": [
    "# Fayl manzili\n",
    "file_path = r\"C:\\Users\\Asus\\Desktop\\result.txt\"\n",
    "\n",
    "lines = []\n",
    "\n",
    "with open(file_path, \"r\", encoding=\"utf-8\") as file:\n",
    "    for line in file:\n",
    "        lines.append(line.strip())   # .strip() qator oxiridagi \\n ni olib tashlaydi\n",
    "\n",
    "print(lines)\n"
   ]
  },
  {
   "cell_type": "markdown",
   "id": "27c6177a",
   "metadata": {},
   "source": [
    "8.Write a Python program to find the longest words."
   ]
  },
  {
   "cell_type": "code",
   "execution_count": 39,
   "id": "68026917",
   "metadata": {},
   "outputs": [
    {
     "name": "stdout",
     "output_type": "stream",
     "text": [
      "Eng uzun so`z: ['Alice']\n"
     ]
    }
   ],
   "source": [
    "def longest_word(file_pathh):\n",
    "    with open(file_pathh,\"r\") as file:\n",
    "        text=file.read()\n",
    "    \n",
    "    for ch in [\",\", \".\", \"!\", \"?\", \";\", \":\"]:\n",
    "        text=text.replace(ch,\"\")\n",
    "\n",
    "    words=text.split()\n",
    "    max_len=max(len(word) for word in words)\n",
    "    longest=[w for w in words if len(w)==max_len]\n",
    "    return longest\n",
    "\n",
    "print(\"Eng uzun so`z:\",longest_word(file_path))"
   ]
  },
  {
   "cell_type": "markdown",
   "id": "2dc9be77",
   "metadata": {},
   "source": [
    "9.Write a Python program to count the number of lines in a text file."
   ]
  },
  {
   "cell_type": "code",
   "execution_count": 74,
   "id": "41bd940a",
   "metadata": {},
   "outputs": [
    {
     "name": "stdout",
     "output_type": "stream",
     "text": [
      "5\n"
     ]
    }
   ],
   "source": [
    "\n",
    "file_path='C:\\\\Users\\\\Asus\\\\Desktop\\\\output.txt'\n",
    "with open(file_path,\"r\") as file:\n",
    "    lines=file.readlines()\n",
    "    print(len(lines))"
   ]
  },
  {
   "cell_type": "markdown",
   "id": "b22bdbc3",
   "metadata": {},
   "source": [
    "10.Write a Python program to count the frequency of words in a file."
   ]
  },
  {
   "cell_type": "code",
   "execution_count": 81,
   "id": "fa792f08",
   "metadata": {},
   "outputs": [
    {
     "name": "stdout",
     "output_type": "stream",
     "text": [
      "adam : 1\n",
      "john : 2\n",
      "alice : 2\n",
      "patric : 2\n",
      "dilshoodadam : 1\n",
      "aliali : 1\n"
     ]
    }
   ],
   "source": [
    "from collections import Counter\n",
    "\n",
    "file_path='C:\\\\Users\\\\Asus\\\\Desktop\\\\output.txt'\n",
    "\n",
    "with open(file_path,\"r\") as file:\n",
    "    text=file.read()\n",
    "    words=text.lower().split()\n",
    "\n",
    "word_count=Counter(words)\n",
    "for x , y in word_count.items():\n",
    "    print(x,\":\",y)"
   ]
  },
  {
   "cell_type": "markdown",
   "id": "1481ca89",
   "metadata": {},
   "source": [
    "11.Write a Python program to get the file size of a plain file."
   ]
  },
  {
   "cell_type": "code",
   "execution_count": 84,
   "id": "b284d703",
   "metadata": {},
   "outputs": [
    {
     "name": "stdout",
     "output_type": "stream",
     "text": [
      "File size in Bayts:68\n"
     ]
    }
   ],
   "source": [
    "import os\n",
    "\n",
    "file_path='C:\\\\Users\\\\Asus\\\\Desktop\\\\output.txt'\n",
    "\n",
    "size=os.path.getsize(file_path)\n",
    "\n",
    "print(f\"File size in Bayts:{size}\")"
   ]
  },
  {
   "cell_type": "markdown",
   "id": "4630c662",
   "metadata": {},
   "source": [
    "12.Write a Python program to write a list to a file."
   ]
  },
  {
   "cell_type": "code",
   "execution_count": 87,
   "id": "2d5826ed",
   "metadata": {},
   "outputs": [],
   "source": [
    "employees=[\"Adam\",\"John\",\"Alice\",\"Bob\",\"Saly\"]\n",
    "\n",
    "file_path='C:\\\\Users\\\\Asus\\\\Desktop\\\\output.txt'\n",
    "with open(file_path,\"w\") as file:\n",
    "    for x in employees:\n",
    "        file.write(x+\"\\n\")\n"
   ]
  },
  {
   "cell_type": "markdown",
   "id": "c8621909",
   "metadata": {},
   "source": [
    "13.Write a Python program to copy the contents of a file to another file."
   ]
  },
  {
   "cell_type": "code",
   "execution_count": 7,
   "id": "c315555f",
   "metadata": {},
   "outputs": [
    {
     "name": "stdout",
     "output_type": "stream",
     "text": [
      "Filedagi ma`lumot ko`chirildi\n"
     ]
    }
   ],
   "source": [
    "file_path='C:\\\\Users\\\\Asus\\\\Desktop\\\\output.txt'\n",
    "\n",
    "resourse_path='C:\\\\Users\\\\Asus\\\\Desktop\\\\input.txt'\n",
    "\n",
    "with open(file_path,\"r\") as file:\n",
    "    data=file.read()\n",
    "\n",
    "with open(resourse_path,\"w\") as file:\n",
    "    file.write(data)\n",
    "\n",
    "print(\"Filedagi ma`lumot ko`chirildi\")"
   ]
  },
  {
   "cell_type": "markdown",
   "id": "1e30877d",
   "metadata": {},
   "source": [
    "14.Write a Python program to combine each line from the first file with the corresponding line in the second file."
   ]
  },
  {
   "cell_type": "code",
   "execution_count": 12,
   "id": "8b4454e5",
   "metadata": {},
   "outputs": [
    {
     "name": "stdout",
     "output_type": "stream",
     "text": [
      "Done!\n"
     ]
    }
   ],
   "source": [
    "file_path='C:\\\\Users\\\\Asus\\\\Desktop\\\\output.txt'\n",
    "\n",
    "resourse_path='C:\\\\Users\\\\Asus\\\\Desktop\\\\input.txt'\n",
    "\n",
    "adding_path='C:\\\\Users\\\\Asus\\\\Desktop\\\\result.txt'\n",
    "\n",
    "with open(file_path,\"r\") as file1,open(resourse_path,\"r\") as file2:\n",
    "    lines1=file1.readlines()\n",
    "    lines2=file2.readlines()\n",
    "\n",
    "with open(adding_path,\"w\") as f3:\n",
    "    for l1,l2 in zip(lines1,lines2):\n",
    "        f3.write(l1.strip()+\" \"+l2)\n",
    "\n",
    "print(\"Done!\")\n",
    "\n"
   ]
  },
  {
   "cell_type": "markdown",
   "id": "c544e5fd",
   "metadata": {},
   "source": [
    "15.Write a Python program to read a random line from a file."
   ]
  },
  {
   "cell_type": "code",
   "execution_count": 17,
   "id": "8c35d216",
   "metadata": {},
   "outputs": [
    {
     "name": "stdout",
     "output_type": "stream",
     "text": [
      "Bob Bob\n"
     ]
    }
   ],
   "source": [
    "import random\n",
    "\n",
    "adding_path='C:\\\\Users\\\\Asus\\\\Desktop\\\\result.txt'\n",
    "\n",
    "with open(adding_path,\"r\") as file:\n",
    "    liness=file.readlines()\n",
    "\n",
    "print(liness[random.randint(0,len(liness))].strip())"
   ]
  },
  {
   "cell_type": "markdown",
   "id": "e7f835cb",
   "metadata": {},
   "source": [
    "16.Write a Python program to assess if a file is closed or not."
   ]
  },
  {
   "cell_type": "code",
   "execution_count": 26,
   "id": "9537de68",
   "metadata": {},
   "outputs": [
    {
     "name": "stdout",
     "output_type": "stream",
     "text": [
      "File yopildimi: False\n",
      "File yopildimi: True\n"
     ]
    }
   ],
   "source": [
    "adding_path='C:\\\\Users\\\\Asus\\\\Desktop\\\\result.txt'\n",
    "\n",
    "with open(adding_path,\"r\") as file:\n",
    "    print(\"File yopildimi:\",file.closed)\n",
    "\n",
    "file.close()\n",
    "\n",
    "print(\"File yopildimi:\",file.closed)\n"
   ]
  },
  {
   "cell_type": "markdown",
   "id": "ce523c22",
   "metadata": {},
   "source": [
    "17.Write a Python program to remove newline characters from a file."
   ]
  },
  {
   "cell_type": "code",
   "execution_count": 43,
   "id": "9baed86b",
   "metadata": {},
   "outputs": [],
   "source": [
    "adding_path='C:\\\\Users\\\\Asus\\\\Desktop\\\\result.txt'\n",
    "\n",
    "with open(adding_path,\"r\") as file:\n",
    "    lines=file.readlines()\n",
    "\n",
    "    \n",
    "cleaned=[x.replace(\"\\n\",\"\") for x in lines]\n",
    "cleaned\n",
    "\n",
    "with open(adding_path,\"w\") as file:\n",
    "    for x in cleaned:\n",
    "        file.write(x)\n",
    "\n",
    "\n"
   ]
  },
  {
   "cell_type": "markdown",
   "id": "3829222b",
   "metadata": {},
   "source": [
    "18.Write a Python program that takes a text file as input and returns the number of words in a given text file."
   ]
  },
  {
   "cell_type": "markdown",
   "id": "1f290302",
   "metadata": {},
   "source": [
    "First answer"
   ]
  },
  {
   "cell_type": "code",
   "execution_count": 3,
   "id": "ff8defe4",
   "metadata": {},
   "outputs": [
    {
     "name": "stdout",
     "output_type": "stream",
     "text": [
      "6\n"
     ]
    }
   ],
   "source": [
    "adding_path='C:\\\\Users\\\\Asus\\\\Desktop\\\\result.txt'\n",
    "\n",
    "with open(adding_path,\"r\") as file:\n",
    "    lines=file.readlines()\n",
    "lines\n",
    "d=[x.replace(\",\",\" \") for x in lines]\n",
    "\n",
    "cleaned=\" \".join(d).split()\n",
    "print(len(cleaned))\n",
    "\n"
   ]
  },
  {
   "cell_type": "markdown",
   "id": "1d0e4470",
   "metadata": {},
   "source": [
    "second Answer"
   ]
  },
  {
   "cell_type": "code",
   "execution_count": 4,
   "id": "ab21ac11",
   "metadata": {},
   "outputs": [
    {
     "name": "stdout",
     "output_type": "stream",
     "text": [
      "So'zlar soni: 6\n"
     ]
    }
   ],
   "source": [
    "\n",
    "adding_path = r\"C:\\Users\\Asus\\Desktop\\result.txt\"\n",
    "\n",
    "with open(adding_path, \"r\", encoding=\"utf-8\") as file:\n",
    "    text = file.read()\n",
    "\n",
    "text = text.replace(\",\", \" \")\n",
    "\n",
    "words = text.split()\n",
    "\n",
    "print(\"So'zlar soni:\", len(words))\n"
   ]
  },
  {
   "cell_type": "markdown",
   "id": "4e062b7e",
   "metadata": {},
   "source": [
    "19.Write a Python program to extract characters from various text files and put them into a list."
   ]
  },
  {
   "cell_type": "code",
   "execution_count": 8,
   "id": "bfc59a4f",
   "metadata": {},
   "outputs": [
    {
     "data": {
      "text/plain": [
       "['A',\n",
       " 'd',\n",
       " 'a',\n",
       " 'm',\n",
       " '\\n',\n",
       " 'J',\n",
       " 'o',\n",
       " 'h',\n",
       " 'n',\n",
       " '\\n',\n",
       " 'A',\n",
       " 'l',\n",
       " 'i',\n",
       " 'c',\n",
       " 'e',\n",
       " '\\n',\n",
       " 'B',\n",
       " 'o',\n",
       " 'b',\n",
       " '\\n',\n",
       " 'S',\n",
       " 'a',\n",
       " 'l',\n",
       " 'y',\n",
       " '\\n',\n",
       " 'A',\n",
       " 'd',\n",
       " 'a',\n",
       " 'm',\n",
       " ' ',\n",
       " 'A',\n",
       " 'd',\n",
       " 'a',\n",
       " 'm',\n",
       " 'J',\n",
       " 'o',\n",
       " 'h',\n",
       " 'n',\n",
       " ' ',\n",
       " 'J',\n",
       " 'o',\n",
       " 'h',\n",
       " 'n',\n",
       " 'A',\n",
       " 'l',\n",
       " 'i',\n",
       " 'c',\n",
       " 'e',\n",
       " ' ',\n",
       " 'A',\n",
       " 'l',\n",
       " 'i',\n",
       " 'c',\n",
       " 'e',\n",
       " 'B',\n",
       " 'o',\n",
       " 'b',\n",
       " ' ',\n",
       " 'B',\n",
       " 'o',\n",
       " 'b',\n",
       " 'S',\n",
       " 'a',\n",
       " 'l',\n",
       " 'y',\n",
       " ' ',\n",
       " 'S',\n",
       " 'a',\n",
       " 'l',\n",
       " 'y']"
      ]
     },
     "execution_count": 8,
     "metadata": {},
     "output_type": "execute_result"
    }
   ],
   "source": [
    "resourse_path='C:\\\\Users\\\\Asus\\\\Desktop\\\\input.txt'\n",
    "\n",
    "adding_path='C:\\\\Users\\\\Asus\\\\Desktop\\\\result.txt'\n",
    "\n",
    "with open(resourse_path,\"r\") as f1,open(adding_path,\"r\") as f2:\n",
    "    list1=list(f1.read())\n",
    "    list2=list(f2.read())\n",
    "\n",
    "final_list=list1+list2\n",
    "final_list"
   ]
  },
  {
   "cell_type": "markdown",
   "id": "c880e9e7",
   "metadata": {},
   "source": [
    "20.Write a Python program to generate 26 text files named A.txt, B.txt, and so on up to Z.txt."
   ]
  },
  {
   "cell_type": "code",
   "execution_count": null,
   "id": "4d413ad3",
   "metadata": {},
   "outputs": [],
   "source": [
    "import string\n",
    "\n",
    "latters=list(string.ascii_uppercase)\n",
    "\n",
    "for x in latters:\n",
    "    a=x+\".txt\"\n",
    "    with open(a,\"w\") as file:\n",
    "        pass\n"
   ]
  },
  {
   "cell_type": "markdown",
   "id": "b3e067b9",
   "metadata": {},
   "source": [
    "21.Write a Python program to create a file where all letters of the English alphabet are listed with a specified number of letters on each line."
   ]
  },
  {
   "cell_type": "code",
   "execution_count": 33,
   "id": "5fe3e992",
   "metadata": {},
   "outputs": [
    {
     "name": "stdout",
     "output_type": "stream",
     "text": [
      "A B C D E F G H I J\n",
      "K L M N O P Q R S T\n",
      "U V W X Y Z\n"
     ]
    }
   ],
   "source": [
    "import string\n",
    "\n",
    "letters = list(string.ascii_uppercase)\n",
    "\n",
    "adding_path = r\"C:\\Users\\Asus\\Desktop\\result.txt\"\n",
    "\n",
    "# Har bir qatorda nechta harf bo'lishi kerak\n",
    "per_line = 10  \n",
    "\n",
    "with open(adding_path, \"w\", encoding=\"utf-8\") as file:\n",
    "    for i in range(0, len(letters), per_line):\n",
    "        line = \" \".join(letters[i:i+per_line])\n",
    "        print(line)         # ekranga chiqarish\n",
    "        file.write(line + \"\\n\")\n"
   ]
  }
 ],
 "metadata": {
  "kernelspec": {
   "display_name": "Python 3",
   "language": "python",
   "name": "python3"
  },
  "language_info": {
   "codemirror_mode": {
    "name": "ipython",
    "version": 3
   },
   "file_extension": ".py",
   "mimetype": "text/x-python",
   "name": "python",
   "nbconvert_exporter": "python",
   "pygments_lexer": "ipython3",
   "version": "3.12.9"
  }
 },
 "nbformat": 4,
 "nbformat_minor": 5
}
