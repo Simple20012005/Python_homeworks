{
 "cells": [
  {
   "cell_type": "markdown",
   "id": "0b4cc559",
   "metadata": {},
   "source": [
    "1. Convert List to 1D Array"
   ]
  },
  {
   "cell_type": "code",
   "execution_count": null,
   "id": "dd4627bf",
   "metadata": {},
   "outputs": [
    {
     "name": "stdout",
     "output_type": "stream",
     "text": [
      "<class 'numpy.ndarray'>\n"
     ]
    }
   ],
   "source": [
    "import numpy as np\n",
    "\n",
    "my_list=[12.23, 13.32, 100, 36.32]\n",
    "\n",
    "arr=np.array(my_list)\n",
    "\n",
    "print(arr)"
   ]
  },
  {
   "cell_type": "markdown",
   "id": "3c8079ef",
   "metadata": {},
   "source": [
    "2. Create 3x3 Matrix (2?10)"
   ]
  },
  {
   "cell_type": "code",
   "execution_count": 4,
   "id": "87773426",
   "metadata": {},
   "outputs": [
    {
     "name": "stdout",
     "output_type": "stream",
     "text": [
      "[[ 2  3  4]\n",
      " [ 5  6  7]\n",
      " [ 8  9 10]]\n"
     ]
    }
   ],
   "source": [
    "import numpy as np\n",
    "\n",
    "arr=np.arange(2,11,1)\n",
    "shape=arr.reshape(3,3)\n",
    "print(shape)"
   ]
  },
  {
   "cell_type": "markdown",
   "id": "94f40c99",
   "metadata": {},
   "source": [
    "3. Null Vector (10) & Update Sixth Value"
   ]
  },
  {
   "cell_type": "code",
   "execution_count": 7,
   "id": "867da9b2",
   "metadata": {},
   "outputs": [
    {
     "name": "stdout",
     "output_type": "stream",
     "text": [
      "[[ 0.  0.  0.  0.  0.  0. 11.  0.  0.  0.]]\n"
     ]
    }
   ],
   "source": [
    "import numpy as np\n",
    "\n",
    "arr=np.zeros((1,10))\n",
    "\n",
    "arr[0,6]=11\n",
    "\n",
    "print(arr)"
   ]
  },
  {
   "cell_type": "markdown",
   "id": "9704593f",
   "metadata": {},
   "source": [
    "4. Array from 12 to 38"
   ]
  },
  {
   "cell_type": "code",
   "execution_count": 9,
   "id": "86df3aef",
   "metadata": {},
   "outputs": [
    {
     "name": "stdout",
     "output_type": "stream",
     "text": [
      "[12 13 14 15 16 17 18 19 20 21 22 23 24 25 26 27 28 29 30 31 32 33 34 35\n",
      " 36 37]\n"
     ]
    }
   ],
   "source": [
    "import numpy as np\n",
    "\n",
    "arr=np.arange(12,38,1)\n",
    "\n",
    "print(arr)"
   ]
  },
  {
   "cell_type": "markdown",
   "id": "af679ef8",
   "metadata": {},
   "source": [
    "5. Convert Array to Float Type"
   ]
  },
  {
   "cell_type": "code",
   "execution_count": 14,
   "id": "ff308cab",
   "metadata": {},
   "outputs": [
    {
     "name": "stdout",
     "output_type": "stream",
     "text": [
      "[1. 2. 3. 4.]\n",
      "dtype: float64\n"
     ]
    }
   ],
   "source": [
    "import numpy as np\n",
    "\n",
    "arr=np.array([1, 2, 3, 4],dtype=float)\n",
    "\n",
    "print(arr)\n",
    "\n",
    "print(\"dtype:\",arr.dtype)\n"
   ]
  },
  {
   "cell_type": "markdown",
   "id": "d22f63e4",
   "metadata": {},
   "source": [
    "6. Celsius to Fahrenheit Conversion"
   ]
  },
  {
   "cell_type": "code",
   "execution_count": 32,
   "id": "c3e4b72e",
   "metadata": {},
   "outputs": [
    {
     "name": "stdout",
     "output_type": "stream",
     "text": [
      "Values in Celsius degrees: [ 0.   12.   45.21 34.   99.91 32.  ]\n",
      "Values in Fahrenheit degrees: [ 32.     53.6   113.378  93.2   211.838  89.6  ]\n",
      "Back to Celsius: [ 0.   12.   45.21 34.   99.91 32.  ]\n"
     ]
    }
   ],
   "source": [
    "import numpy as np\n",
    "\n",
    "# Boshlang'ich massiv (Celsius)\n",
    "celsius = np.array([0, 12, 45.21, 34, 99.91, 32])\n",
    "\n",
    "# Celsius -> Fahrenheit\n",
    "fahrenheit = (celsius * 9/5) + 32\n",
    "\n",
    "# Fahrenheit -> Celsius\n",
    "c_back = (fahrenheit - 32) * 5/9\n",
    "\n",
    "print(\"Values in Celsius degrees:\", celsius)\n",
    "print(\"Values in Fahrenheit degrees:\", fahrenheit)\n",
    "print(\"Back to Celsius:\", c_back)\n"
   ]
  },
  {
   "cell_type": "markdown",
   "id": "c2dc3348",
   "metadata": {},
   "source": [
    "7. Append Values to Array (Do self-tudy)"
   ]
  },
  {
   "cell_type": "code",
   "execution_count": 34,
   "id": "37ef7417",
   "metadata": {},
   "outputs": [
    {
     "name": "stdout",
     "output_type": "stream",
     "text": [
      "[10 20 30 40 50 60 70 80 90]\n"
     ]
    }
   ],
   "source": [
    "import numpy as np\n",
    "\n",
    "arr=([10,20,30])\n",
    "new_arr=np.append(arr,[40,50,60,70,80,90])\n",
    "\n",
    "print(new_arr)"
   ]
  },
  {
   "cell_type": "markdown",
   "id": "6fbc8837",
   "metadata": {},
   "source": [
    "8. Array Statistical Functions (Do self-tudy)"
   ]
  },
  {
   "cell_type": "code",
   "execution_count": null,
   "id": "ab219a6f",
   "metadata": {},
   "outputs": [
    {
     "name": "stdout",
     "output_type": "stream",
     "text": [
      "[0.06962989 0.39356605 0.69561383 0.71848051 0.35392011 0.99324358\n",
      " 0.54414691 0.37752284 0.78738232 0.18098994]\n",
      "The mean of array: 0.5114495983717751\n",
      "The mediana of array: 0.4688564798753223\n",
      "The  standard deviation of the array: 0.27334380795998314\n"
     ]
    }
   ],
   "source": [
    "import numpy as np\n",
    "\n",
    "arr=np.random.rand(10)\n",
    "print(arr)\n",
    "print(\"The mean of array:\",arr.mean())\n",
    "print(\"The mediana of array:\",np.median(arr))\n",
    "print(\"The  standard deviation of the array:\",arr.std())"
   ]
  },
  {
   "cell_type": "markdown",
   "id": "db7dc489",
   "metadata": {},
   "source": [
    "9 Find min and max"
   ]
  },
  {
   "cell_type": "code",
   "execution_count": 27,
   "id": "c82da9ea",
   "metadata": {},
   "outputs": [
    {
     "name": "stdout",
     "output_type": "stream",
     "text": [
      "[[59 25 77 91 42 34 14  1 46  4]\n",
      " [28 52 48 61  5 92  5 46 25  8]\n",
      " [ 7 66 85 40 70 18 36 93 60  9]\n",
      " [46 99 70 21 42 76 52 54  2  2]\n",
      " [91 31  5 96 24 28 22 32 53  9]\n",
      " [54 81 39 92  3 20 68  6 22 52]\n",
      " [97 30 59 34 58 99 93 45 13 26]\n",
      " [24  6 56 99 37 43 35 82 56 88]\n",
      " [48 43 39 17 45 27 64 13 72 70]\n",
      " [56 41 68 10 16 79 93 79 40 86]]\n",
      "Max: 99\n",
      "Min: 1\n"
     ]
    }
   ],
   "source": [
    "import numpy as np\n",
    "\n",
    "arr=np.random.randint(1,100,size=(10,10))\n",
    "print(arr)\n",
    "print(\"Max:\",arr.max())\n",
    "print(\"Min:\",arr.min())"
   ]
  },
  {
   "cell_type": "markdown",
   "id": "31a68554",
   "metadata": {},
   "source": [
    "10.Create a 3x3x3 array with random values."
   ]
  },
  {
   "cell_type": "code",
   "execution_count": 29,
   "id": "9141a79b",
   "metadata": {},
   "outputs": [
    {
     "name": "stdout",
     "output_type": "stream",
     "text": [
      "[[[1 1 3]\n",
      "  [9 3 5]\n",
      "  [1 5 3]]\n",
      "\n",
      " [[7 9 6]\n",
      "  [3 4 7]\n",
      "  [5 5 2]]\n",
      "\n",
      " [[8 7 9]\n",
      "  [8 1 5]\n",
      "  [3 8 6]]]\n"
     ]
    }
   ],
   "source": [
    "import numpy as np\n",
    "\n",
    "arr=np.random.randint(1,10,size=(3,3,3))\n",
    "\n",
    "print(arr)"
   ]
  }
 ],
 "metadata": {
  "kernelspec": {
   "display_name": "Python 3",
   "language": "python",
   "name": "python3"
  },
  "language_info": {
   "codemirror_mode": {
    "name": "ipython",
    "version": 3
   },
   "file_extension": ".py",
   "mimetype": "text/x-python",
   "name": "python",
   "nbconvert_exporter": "python",
   "pygments_lexer": "ipython3",
   "version": "3.12.9"
  }
 },
 "nbformat": 4,
 "nbformat_minor": 5
}
