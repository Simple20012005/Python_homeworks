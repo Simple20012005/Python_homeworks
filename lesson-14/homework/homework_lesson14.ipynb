{
 "cells": [
  {
   "cell_type": "markdown",
   "id": "6517b833",
   "metadata": {},
   "source": [
    "1.Task: JSON Parsing"
   ]
  },
  {
   "cell_type": "code",
   "execution_count": 20,
   "id": "d71dd787",
   "metadata": {},
   "outputs": [
    {
     "name": "stdout",
     "output_type": "stream",
     "text": [
      "---- Student ----\n",
      "id: 1\n",
      "name: Alice Smith\n",
      "age: 15\n",
      "grade: 10\n",
      "subjects: ['Mathematics', 'Physics', 'English']\n",
      "address: {'street': '123 Main Street', 'city': 'Anytown', 'state': 'CA', 'zipcode': '12345'}\n",
      "shorten: AS\n",
      "\n",
      "---- Student ----\n",
      "id: 2\n",
      "name: Bob Johnson\n",
      "age: 16\n",
      "grade: 11\n",
      "subjects: ['History', 'Chemistry', 'Spanish']\n",
      "address: {'street': '456 Oak Avenue', 'city': 'Smallville', 'state': 'NY', 'zipcode': '54321'}\n",
      "shorten: BJ\n",
      "\n",
      "---- Student ----\n",
      "id: 3\n",
      "name: Charlie Davis\n",
      "age: 14\n",
      "grade: 9\n",
      "subjects: ['Biology', 'Computer Science', 'French']\n",
      "address: {'street': '789 Pine Road', 'city': 'Villagetown', 'state': 'TX', 'zipcode': '67890'}\n",
      "shorten: CD\n",
      "\n"
     ]
    }
   ],
   "source": [
    "import json\n",
    "\n",
    "with open(\"students.json\",\"r\") as f:\n",
    "    data=json.load(f)\n",
    "\n",
    "for student in data[\"students\"]:\n",
    "    print(\"---- Student ----\")\n",
    "    for key, value in student.items():\n",
    "        print(f\"{key}: {value}\")\n",
    "    print()"
   ]
  },
  {
   "cell_type": "markdown",
   "id": "b7d8916b",
   "metadata": {},
   "source": [
    "2.Task: Weather API"
   ]
  },
  {
   "cell_type": "code",
   "execution_count": null,
   "id": "0abcb444",
   "metadata": {},
   "outputs": [],
   "source": [
    "import requests\n",
    "\n",
    "api_key=\"b8615d616929f1dfe29d43dd4533f905\"\n",
    "city_name=\"Tashkent\"\n",
    "url=f\"https://api.openweathermap.org/data/2.5/weather?q={city_name}&appid={api_key}&units=metric\"\n",
    "\n",
    "response=requests.get(url)\n",
    "my_data=response.json()\n",
    "print(my_data[\"name\"],my_data[\"weather\"][0][\"description\"],my_data[\"main\"][\"temp\"],my_data[\"main\"][\"humidity\"],my_data[\"wind\"][\"speed\"])"
   ]
  },
  {
   "cell_type": "markdown",
   "id": "8de41b9e",
   "metadata": {},
   "source": [
    "3.Task: JSON Modification"
   ]
  },
  {
   "cell_type": "code",
   "execution_count": 34,
   "id": "e5a33891",
   "metadata": {},
   "outputs": [],
   "source": [
    "import json\n",
    "\n",
    "def add_books(book_id,name,author_name):\n",
    "    with open(\"books.json\",\"r\") as f:\n",
    "        data=json.load(f)\n",
    "        \n",
    "    new_book = {\n",
    "        \"book_id\": book_id,\n",
    "        \"name\": name,\n",
    "        \"author_name\": author_name\n",
    "    }\n",
    "\n",
    "    data[\"books\"].append(new_book)\n",
    "\n",
    "    with open(\"books.json\",\"w\") as file:\n",
    "        json.dump(data,file,indent=2)\n",
    "\n",
    "\n",
    "def update_book_info(book_id,name,author_name):\n",
    "    with open(\"books.json\",\"r\") as f:\n",
    "        data=json.load(f)\n",
    "\n",
    "    found = False\n",
    "\n",
    "    for book in data[\"books\"]:\n",
    "        if book[\"book_id\"] == book_id:\n",
    "            book[\"name\"] = name\n",
    "            book[\"author_name\"] = author_name\n",
    "            found = True\n",
    "            break   # topilgach, tsiklni to‘xtatamiz\n",
    "\n",
    "    if found:\n",
    "        with open(\"books.json\", \"w\") as f:\n",
    "            json.dump(data, f, indent=2)\n",
    "        print(f\"✅ book_id={book_id} ma'lumotlari yangilandi\")\n",
    "    else:\n",
    "        print(f\"⚠️ Bunday book_id={book_id} topilmadi\")\n",
    "\n",
    "\n",
    "def delete_books(book_id):\n",
    "    with open(\"books.json\",\"r\") as f:\n",
    "        data=json.load(f)\n",
    "\n",
    "    old_len=len(data[\"books\"])\n",
    "\n",
    "    data[\"books\"]=[book for book in data[\"books\"] if book[\"book_id\"]!=book_id]\n",
    "\n",
    "    if len(data[\"books\"])==old_len:\n",
    "        print(f\"Bunday book_id={book_id} topilmadi\")\n",
    "\n",
    "    else:\n",
    "        with open(\"books.json\",\"w\") as f:\n",
    "            json.dump(data,f,indent=2)\n",
    "        print(f\"book_id={book_id} o`chirildi\")\n",
    "\n"
   ]
  },
  {
   "cell_type": "markdown",
   "id": "4dc27237",
   "metadata": {},
   "source": [
    "4.Task: Movie Recommendation System"
   ]
  },
  {
   "cell_type": "code",
   "execution_count": 39,
   "id": "e048a4dd",
   "metadata": {},
   "outputs": [
    {
     "name": "stdout",
     "output_type": "stream",
     "text": [
      "Avengers: Infinity War\n",
      "Captain America: Civil War\n",
      "World War Z\n",
      "War of the Worlds\n",
      "War for the Planet of the Apes\n",
      "Civil War\n",
      "Civil War\n",
      "The Tomorrow War\n"
     ]
    }
   ],
   "source": [
    "import requests\n",
    "about=input(\"What do you want the movie to be about?\")\n",
    "genre=input(\"Enter the genre of the movie\")\n",
    "my_url=f\"http://www.omdbapi.com/?s={about}&apikey=45f402b9\"\n",
    "\n",
    "response=requests.get(my_url)\n",
    "my_data=response.json()\n",
    "\n",
    "for dict in my_data[\"Search\"]:\n",
    "        id=dict[\"imdbID\"]\n",
    "        url=f\"http://www.omdbapi.com/?i={id}&apikey=45f402b9\"\n",
    "        response=requests.get(url)\n",
    "        data=response.json()\n",
    "        if genre in data[\"Genre\"]:\n",
    "                print(data[\"Title\"])\n",
    "               \n"
   ]
  }
 ],
 "metadata": {
  "kernelspec": {
   "display_name": "Python 3",
   "language": "python",
   "name": "python3"
  },
  "language_info": {
   "codemirror_mode": {
    "name": "ipython",
    "version": 3
   },
   "file_extension": ".py",
   "mimetype": "text/x-python",
   "name": "python",
   "nbconvert_exporter": "python",
   "pygments_lexer": "ipython3",
   "version": "3.12.9"
  }
 },
 "nbformat": 4,
 "nbformat_minor": 5
}
