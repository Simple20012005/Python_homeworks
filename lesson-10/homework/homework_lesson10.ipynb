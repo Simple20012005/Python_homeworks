{
 "cells": [
  {
   "cell_type": "markdown",
   "id": "5f9f2cc0",
   "metadata": {},
   "source": [
    "Homework Projects:"
   ]
  },
  {
   "cell_type": "markdown",
   "id": "647931c2",
   "metadata": {},
   "source": [
    "Homework 1. ToDo List Application"
   ]
  },
  {
   "cell_type": "markdown",
   "id": "448bb75b",
   "metadata": {},
   "source": [
    "1.Define Task Class:"
   ]
  },
  {
   "cell_type": "code",
   "execution_count": null,
   "id": "a0854153",
   "metadata": {},
   "outputs": [],
   "source": [
    "class Task:\n",
    "    def __init__(self,title,description,due_date,status='Incompleted'):\n",
    "        self.title=title\n",
    "        self.description=description\n",
    "        self.due_date=due_date\n",
    "        self.status=status\n"
   ]
  },
  {
   "cell_type": "markdown",
   "id": "a2c96abc",
   "metadata": {},
   "source": [
    "2.Define ToDoList Class"
   ]
  },
  {
   "cell_type": "code",
   "execution_count": 8,
   "id": "62c1b444",
   "metadata": {},
   "outputs": [],
   "source": [
    "class ToDoList:\n",
    "    def __init__(self):\n",
    "        self.items={}\n",
    "\n",
    "    def add_task(self,title,description,due_date,status='Incomplete'):\n",
    "        if title in self.items:\n",
    "            return \"Bunday topshiriq mavjud\"\n",
    "        else:\n",
    "            self.items.update({title:{\"description\":description,\"due_date\":due_date,\"status\":status}})\n",
    "\n",
    "    def mark_complete(self,title):\n",
    "        if title in self.items:\n",
    "            self.items[title].update({\"status\":\"Complete\"})\n",
    "        else:\n",
    "            print(\"Bunday vazifa topilmadi!\") \n",
    "        \n",
    "    def list_all_tasks(self):\n",
    "        for title,info in self.items.items():\n",
    "            print(f\"{title}:{info}\")\n",
    "    \n",
    "    def list_incomplete_tasks(self):\n",
    "        found = False\n",
    "        for title, info in self.items.items():\n",
    "            if info[\"status\"] == \"Incomplete\":\n",
    "                print(f\"{title}: {info}\")\n",
    "                found = True\n",
    "        if not found:\n",
    "            print(\"Tugallanmagan vazifa topilmadi\")\n",
    "\n",
    "    \n"
   ]
  },
  {
   "cell_type": "markdown",
   "id": "1c8c9f3a",
   "metadata": {},
   "source": [
    "3.Create Main Program:"
   ]
  },
  {
   "cell_type": "code",
   "execution_count": 9,
   "id": "10fcc714",
   "metadata": {},
   "outputs": [
    {
     "name": "stdout",
     "output_type": "stream",
     "text": [
      "1. Vazifa qo'shish\n",
      "2. Vazifani bajarilgan deb belgilash\n",
      "3. Barcha vazifalarni ko'rish\n",
      "4. Faqat tugallanmagan vazifalarni ko'rish\n",
      "5. Chiqish\n",
      "None\n",
      "1. Vazifa qo'shish\n",
      "2. Vazifani bajarilgan deb belgilash\n",
      "3. Barcha vazifalarni ko'rish\n",
      "4. Faqat tugallanmagan vazifalarni ko'rish\n",
      "5. Chiqish\n"
     ]
    }
   ],
   "source": [
    "todo = ToDoList()\n",
    "\n",
    "while True:\n",
    "    print(\"1. Vazifa qo'shish\")\n",
    "    print(\"2. Vazifani bajarilgan deb belgilash\")\n",
    "    print(\"3. Barcha vazifalarni ko'rish\")\n",
    "    print(\"4. Faqat tugallanmagan vazifalarni ko'rish\")\n",
    "    print(\"5. Chiqish\")\n",
    "\n",
    "    choice = input(\"Tanlovni kiriting: \")\n",
    "\n",
    "    if choice == \"1\":\n",
    "        title=input(\"Title kiriting\")\n",
    "        description=input(\"description kiriting\")\n",
    "        due_date=input(\"due_date kiriting\")\n",
    "        todo.add_task(title, description, due_date)\n",
    "\n",
    "    if choice == \"2\":\n",
    "        title=input(\"Title kiriting\")\n",
    "        todo.mark_complete(title)\n",
    "\n",
    "    if choice == \"3\" :\n",
    "        print(todo.list_all_tasks())\n",
    "\n",
    "    if choice == \"4\" :\n",
    "        print(todo.list_incomplete_tasks())\n",
    "\n",
    "    if choice == \"5\":\n",
    "        break\n"
   ]
  },
  {
   "cell_type": "markdown",
   "id": "08cc2637",
   "metadata": {},
   "source": [
    "4.Test the Application:"
   ]
  },
  {
   "cell_type": "code",
   "execution_count": 16,
   "id": "8fe17ea1",
   "metadata": {},
   "outputs": [
    {
     "name": "stdout",
     "output_type": "stream",
     "text": [
      "Barcha vazifalar:\n",
      "Dars tayyorlash:{'description': 'Matematikadan uyga vazifa qilish', 'due_date': '2025-09-15', 'status': 'Complete'}\n",
      "Kitob o‘qish:{'description': 'Python bo‘yicha kitobning 3-bobini o‘qish', 'due_date': '2025-09-16', 'status': 'Incomplete'}\n",
      "Sport zal:{'description': '1 soat yugurish mashqlari', 'due_date': '2025-09-17', 'status': 'Incomplete'}\n",
      "\n",
      "Tugallanmagan vazifalar:\n",
      "Kitob o‘qish: {'description': 'Python bo‘yicha kitobning 3-bobini o‘qish', 'due_date': '2025-09-16', 'status': 'Incomplete'}\n",
      "Sport zal: {'description': '1 soat yugurish mashqlari', 'due_date': '2025-09-17', 'status': 'Incomplete'}\n"
     ]
    }
   ],
   "source": [
    "todo = ToDoList()\n",
    "\n",
    "# 3 ta test task qo'shamiz\n",
    "todo.add_task(\"Dars tayyorlash\", \"Matematikadan uyga vazifa qilish\", \"2025-09-15\")\n",
    "todo.add_task(\"Kitob o‘qish\", \"Python bo‘yicha kitobning 3-bobini o‘qish\", \"2025-09-16\")\n",
    "todo.add_task(\"Sport zal\", \"1 soat yugurish mashqlari\", \"2025-09-17\")\n",
    "todo.mark_complete(\"Dars tayyorlash\")\n",
    "\n",
    "print(\"Barcha vazifalar:\")\n",
    "todo.list_all_tasks()\n",
    "\n",
    "print(\"\\nTugallanmagan vazifalar:\")\n",
    "todo.list_incomplete_tasks()"
   ]
  },
  {
   "cell_type": "markdown",
   "id": "4d90d6f9",
   "metadata": {},
   "source": [
    "Homework 2. Simple Blog System"
   ]
  },
  {
   "cell_type": "markdown",
   "id": "66baba44",
   "metadata": {},
   "source": [
    "1.Define Post Class:"
   ]
  },
  {
   "cell_type": "code",
   "execution_count": 1,
   "id": "35756be8",
   "metadata": {},
   "outputs": [],
   "source": [
    "class Post:\n",
    "    def __init__(self,title,content,author):\n",
    "        self.title=title\n",
    "        self.content=content\n",
    "        self.author=author\n",
    "        "
   ]
  },
  {
   "cell_type": "markdown",
   "id": "1f08545e",
   "metadata": {},
   "source": [
    "2.Define Blog Class and  4.Enhance Blog System"
   ]
  },
  {
   "cell_type": "code",
   "execution_count": 2,
   "id": "dbb6482d",
   "metadata": {},
   "outputs": [],
   "source": [
    "class Blog:\n",
    "    def __init__(self):\n",
    "        self.posts=[]\n",
    " \n",
    "\n",
    "    def add_post(self,title,content,author):\n",
    "        p = {\"title\": title, \"content\": content, \"author\": author}\n",
    "        self.posts.append(p)\n",
    "\n",
    "    def list_posts(self):\n",
    "        for x in self.posts:\n",
    "            print(x)\n",
    "\n",
    "    def display_by_author(self,author):\n",
    "        for x in self.posts:\n",
    "                if x[\"author\"]==author:\n",
    "                    print(x)\n",
    "\n",
    "    def delete_post(self,title):\n",
    "         for x in self.posts:\n",
    "              if x[\"title\"]==title:\n",
    "                   self.posts.remove(x)\n",
    "\n",
    "    def edit_post(self,title, new_content):\n",
    "         for x in self.posts:\n",
    "              if x[\"title\"]==title:\n",
    "                   x[\"content\"]=new_content\n",
    "                   break\n",
    "\n",
    "    def latest_posts(self,n):\n",
    "         a=self.posts[-n:]\n",
    "         for x in a:\n",
    "              print(x)\n",
    "                   \n",
    "                   \n",
    "        \n",
    "\n",
    "    \n",
    "\n"
   ]
  },
  {
   "cell_type": "markdown",
   "id": "87d7186f",
   "metadata": {},
   "source": [
    "3.Create Main Program:"
   ]
  },
  {
   "cell_type": "code",
   "execution_count": 13,
   "id": "2d4ef196",
   "metadata": {},
   "outputs": [
    {
     "name": "stdout",
     "output_type": "stream",
     "text": [
      "\n",
      "--- Blog Menyu ---\n",
      "1. Post qo`shish\n",
      "2. Barcha postlar ro`yxati\n",
      "3. Author bo`yicha postlarni aniqlash\n",
      "4. Postni o`chirish\n",
      "5. Postni taxrirlash\n",
      "6. Oxirgi n ta postni chiqarish\n",
      "7. Chiqish\n",
      "Dastur tugadi!\n"
     ]
    }
   ],
   "source": [
    "Bo = Blog()\n",
    "\n",
    "while True:\n",
    "    print(\"\\n--- Blog Menyu ---\")\n",
    "    print(\"1. Post qo`shish\")\n",
    "    print(\"2. Barcha postlar ro`yxati\")\n",
    "    print(\"3. Author bo`yicha postlarni aniqlash\")\n",
    "    print(\"4. Postni o`chirish\")\n",
    "    print(\"5. Postni taxrirlash\")\n",
    "    print(\"6. Oxirgi n ta postni chiqarish\")\n",
    "    print(\"7. Chiqish\")\n",
    "\n",
    "    choice = int(input(\"Tanlovni kiriting: \"))\n",
    "\n",
    "    if choice == 1:\n",
    "        title = input(\"Title kiriting: \")\n",
    "        content = input(\"Content kiriting: \")\n",
    "        author = input(\"Author kiriting: \")\n",
    "        print(Bo.add_post(title, content, author))\n",
    "\n",
    "    elif choice == 2:\n",
    "        print(Bo.list_posts())\n",
    "\n",
    "    elif choice == 3:\n",
    "        author = input(\"Author kiriting: \")\n",
    "        print(Bo.display_by_author(author))\n",
    "\n",
    "    elif choice == 4:\n",
    "        title = input(\"Title kiriting: \")\n",
    "        print(Bo.delete_post(title))\n",
    "\n",
    "    elif choice == 5:\n",
    "        title = input(\"Title kiriting: \")\n",
    "        new_content = input(\"New content kiriting: \")\n",
    "        print(Bo.edit_post(title, new_content))\n",
    "\n",
    "    elif choice == 6:\n",
    "        n = int(input(\"Son kiriting: \"))\n",
    "        print(Bo.latest_posts(n))\n",
    "\n",
    "    elif choice == 7:\n",
    "        print(\"Dastur tugadi!\")\n",
    "        break\n",
    "\n",
    "    else:\n",
    "        print(\"Noto`g`ri tanlov, qayta urinib ko`ring.\")\n",
    "\n",
    " \n",
    "    "
   ]
  },
  {
   "cell_type": "markdown",
   "id": "10660a5e",
   "metadata": {},
   "source": [
    "5.Test the Application:"
   ]
  },
  {
   "cell_type": "code",
   "execution_count": 5,
   "id": "d0ae316b",
   "metadata": {},
   "outputs": [
    {
     "name": "stdout",
     "output_type": "stream",
     "text": [
      "\n",
      "=== Barcha postlar ===\n",
      "{'title': 'Birinchi post', 'content': 'Salom dunyo!', 'author': 'Ali'}\n",
      "{'title': 'Ikkinchi post', 'content': 'Bugun havo chiroyli', 'author': 'Ali'}\n",
      "{'title': 'Uchinchi post', 'content': \"Python juda zo'r!\", 'author': 'Vali'}\n",
      "{'title': \"To'rtinchi post\", 'content': \"OOP mavzusini o'rganayapman\", 'author': 'Dilshod'}\n",
      "\n",
      "=== Ali yozgan postlar ===\n",
      "{'title': 'Birinchi post', 'content': 'Salom dunyo!', 'author': 'Ali'}\n",
      "{'title': 'Ikkinchi post', 'content': 'Bugun havo chiroyli', 'author': 'Ali'}\n",
      "\n",
      "=== 'Ikkinchi post'ni o'chirgandan keyin ===\n",
      "{'title': 'Birinchi post', 'content': 'Salom dunyo!', 'author': 'Ali'}\n",
      "{'title': 'Uchinchi post', 'content': \"Python juda zo'r!\", 'author': 'Vali'}\n",
      "{'title': \"To'rtinchi post\", 'content': \"OOP mavzusini o'rganayapman\", 'author': 'Dilshod'}\n",
      "\n",
      "=== 'Birinchi post'ni tahrirlashdan keyin ===\n",
      "{'title': 'Birinchi post', 'content': 'Salom, bu yangilangan post!', 'author': 'Ali'}\n",
      "{'title': 'Uchinchi post', 'content': \"Python juda zo'r!\", 'author': 'Vali'}\n",
      "{'title': \"To'rtinchi post\", 'content': \"OOP mavzusini o'rganayapman\", 'author': 'Dilshod'}\n",
      "\n",
      "=== Oxirgi 2 ta post ===\n",
      "{'title': 'Uchinchi post', 'content': \"Python juda zo'r!\", 'author': 'Vali'}\n",
      "{'title': \"To'rtinchi post\", 'content': \"OOP mavzusini o'rganayapman\", 'author': 'Dilshod'}\n"
     ]
    }
   ],
   "source": [
    "# Avval Blog klassi yozilgan bo'lishi kerak\n",
    "# Biz endi uni test qilamiz\n",
    "\n",
    "Bo = Blog()\n",
    "\n",
    "# --- Post qo'shish ---\n",
    "Bo.add_post(\"Birinchi post\", \"Salom dunyo!\", \"Ali\")\n",
    "Bo.add_post(\"Ikkinchi post\", \"Bugun havo chiroyli\", \"Ali\")\n",
    "Bo.add_post(\"Uchinchi post\", \"Python juda zo'r!\", \"Vali\")\n",
    "Bo.add_post(\"To'rtinchi post\", \"OOP mavzusini o'rganayapman\", \"Dilshod\")\n",
    "\n",
    "print(\"\\n=== Barcha postlar ===\")\n",
    "Bo.list_posts()\n",
    "\n",
    "# --- Author bo'yicha ko'rish ---\n",
    "print(\"\\n=== Ali yozgan postlar ===\")\n",
    "Bo.display_by_author(\"Ali\")\n",
    "\n",
    "# --- Postni o'chirish ---\n",
    "print(\"\\n=== 'Ikkinchi post'ni o'chirgandan keyin ===\")\n",
    "Bo.delete_post(\"Ikkinchi post\")\n",
    "Bo.list_posts()\n",
    "\n",
    "# --- Postni tahrirlash ---\n",
    "print(\"\\n=== 'Birinchi post'ni tahrirlashdan keyin ===\")\n",
    "Bo.edit_post(\"Birinchi post\", \"Salom, bu yangilangan post!\")\n",
    "Bo.list_posts()\n",
    "\n",
    "# --- Oxirgi n ta postni chiqarish ---\n",
    "print(\"\\n=== Oxirgi 2 ta post ===\")\n",
    "Bo.latest_posts(2)\n"
   ]
  },
  {
   "cell_type": "markdown",
   "id": "01950ac0",
   "metadata": {},
   "source": [
    "Homework 3. Simple Banking System"
   ]
  },
  {
   "cell_type": "markdown",
   "id": "54012129",
   "metadata": {},
   "source": [
    "1.Define Account Class:"
   ]
  },
  {
   "cell_type": "code",
   "execution_count": null,
   "id": "7b2cd84c",
   "metadata": {},
   "outputs": [],
   "source": [
    "class Accounnt:\n",
    "    def __init__(self,account_number, account_holder_name,balance):\n",
    "        self.account_number=account_number\n",
    "        self.account_holder_name=account_holder_name\n",
    "        self.balance=balance\n",
    "        "
   ]
  },
  {
   "cell_type": "markdown",
   "id": "a1c10354",
   "metadata": {},
   "source": [
    "Define ToDoList Class and Enhance Banking System"
   ]
  },
  {
   "cell_type": "code",
   "execution_count": 14,
   "id": "6512bdaa",
   "metadata": {},
   "outputs": [],
   "source": [
    "class Bank:\n",
    "    def __init__(self):\n",
    "        self.accounts=[]\n",
    "\n",
    "    def add_account(self,account_number, account_holder_name,balance):\n",
    "        a={\"account_number\":account_number,\"account_holder_name\": account_holder_name,\"balance\":balance}\n",
    "        self.accounts.append(a)\n",
    "\n",
    "    def check_balance(self,account_number):\n",
    "        for x in self.accounts:\n",
    "            if x[\"account_number\"]==account_number:\n",
    "                print(x[\"balance\"])\n",
    "\n",
    "    def deposit_money(self,account_number,amount):\n",
    "        for x in self.accounts:\n",
    "            if x[\"account_number\"]==account_number:\n",
    "                x[\"balance\"]+=amount\n",
    "                print(f\"{amount} qo‘shildi. Yangi balans: {x['balance']}\")\n",
    "                return\n",
    "        print(\"Bunday account mavjud emas\")\n",
    "            \n",
    "    \n",
    "    def withdraw_money(self,account_number,amount):\n",
    "        overdarft_limit=-100\n",
    "        for x in self.accounts:\n",
    "            if x[\"account_number\"]==account_number:\n",
    "                if x[\"balance\"]-amount>=overdarft_limit:\n",
    "                    x[\"balance\"]-=amount\n",
    "                    print(f\"{amount} yechildi. Yangi balans: {x['balance']}\")\n",
    "                else:\n",
    "                    print(\"Balancda mablag` yetarli emas\")\n",
    "                return\n",
    "            \n",
    "        print(\"Bunday account mavjud emas\")        \n",
    "\n",
    "    def transfer_money_between_accounts(self, from_acc, to_acc, amount):\n",
    "        sender = None\n",
    "        receiver = None\n",
    "\n",
    "        # Jo‘natuvchini va qabul qiluvchini topamiz\n",
    "        for x in self.accounts:\n",
    "            if x[\"account_number\"] == from_acc:\n",
    "                sender = x\n",
    "            elif x[\"account_number\"] == to_acc:\n",
    "                receiver = x\n",
    "\n",
    "        if sender is None:\n",
    "            print(\"Jo‘natuvchi account topilmadi\")\n",
    "            return\n",
    "        if receiver is None:\n",
    "            print(\"Qabul qiluvchi account topilmadi\")\n",
    "            return\n",
    "        overdraft_limit = -100\n",
    "        # Pul yetarliligini tekshiramiz\n",
    "        if sender[\"balance\"]-amount >= overdraft_limit:\n",
    "            sender[\"balance\"] -= amount\n",
    "            receiver[\"balance\"] += amount\n",
    "            print(f\"{amount} {sender['account_holder_name']} dan \"\n",
    "                  f\"{receiver['account_holder_name']} ga o‘tkazildi\")\n",
    "        else:\n",
    "            print(\"Jo‘natuvchi balansida mablag‘ yetarli emas\")\n",
    "\n",
    "\n",
    "    def display_account_details(self,account_number):\n",
    "        for x in self.accounts:\n",
    "            if x[\"account_number\"]==account_number:\n",
    "                print(x)\n",
    "                return\n",
    "        print(\"Bunday accaunt topilmadi!\")\n",
    "\n",
    "    "
   ]
  },
  {
   "cell_type": "markdown",
   "id": "01264692",
   "metadata": {},
   "source": [
    "Create Main Program"
   ]
  },
  {
   "cell_type": "code",
   "execution_count": null,
   "id": "da6c1395",
   "metadata": {},
   "outputs": [],
   "source": [
    "# Avval Bank klassi shu faylda bo‘lishi kerak\n",
    "\n",
    "Bo = Bank()\n",
    "\n",
    "while True:\n",
    "    print(\"\\n--- Banking System Menyu ---\")\n",
    "    print(\"1. Yangi account qo‘shish\")\n",
    "    print(\"2. Balansni tekshirish\")\n",
    "    print(\"3. Pul qo‘yish (deposit)\")\n",
    "    print(\"4. Pul yechish (withdraw)\")\n",
    "    print(\"5. Chiqish\")\n",
    "\n",
    "    choice = int(input(\"Tanlovni kiriting: \"))\n",
    "\n",
    "    if choice == 1:\n",
    "        acc_num = int(input(\"Account raqamini kiriting: \"))\n",
    "        name = input(\"Account egasining ismi: \")\n",
    "        balance = float(input(\"Boshlang‘ich balans: \"))\n",
    "        Bo.add_account(acc_num, name, balance)\n",
    "\n",
    "    elif choice == 2:\n",
    "        acc_num = int(input(\"Account raqamini kiriting: \"))\n",
    "        Bo.check_balance(acc_num)\n",
    "\n",
    "    elif choice == 3:\n",
    "        acc_num = int(input(\"Account raqamini kiriting: \"))\n",
    "        amount = float(input(\"Miqdor: \"))\n",
    "        Bo.deposit_money(acc_num, amount)\n",
    "\n",
    "    elif choice == 4:\n",
    "        acc_num = int(input(\"Account raqamini kiriting: \"))\n",
    "        amount = float(input(\"Miqdor: \"))\n",
    "        Bo.withdraw_money(acc_num, amount)\n",
    "\n",
    "    elif choice == 5:\n",
    "        print(\"Dastur tugadi. Rahmat!\")\n",
    "        break\n",
    "\n",
    "    else:\n",
    "        print(\"Noto‘g‘ri tanlov, qayta urinib ko‘ring.\")\n"
   ]
  },
  {
   "cell_type": "markdown",
   "id": "5266c828",
   "metadata": {},
   "source": [
    "Test the Application"
   ]
  },
  {
   "cell_type": "code",
   "execution_count": 15,
   "id": "fbf4dccb",
   "metadata": {},
   "outputs": [
    {
     "name": "stdout",
     "output_type": "stream",
     "text": [
      "\n",
      "--- Boshlang‘ich balanslar ---\n",
      "500\n",
      "1000\n",
      "750\n",
      "300\n",
      "\n",
      "--- Deposit qilish ---\n",
      "200 qo‘shildi. Yangi balans: 700\n",
      "500 qo‘shildi. Yangi balans: 800\n",
      "\n",
      "--- Withdraw qilish ---\n",
      "300 yechildi. Yangi balans: 700\n",
      "800 yechildi. Yangi balans: -50\n",
      "\n",
      "--- Yakuniy balanslar ---\n",
      "700\n",
      "700\n",
      "-50\n",
      "800\n"
     ]
    }
   ],
   "source": [
    "# Bank obyektini yaratamiz\n",
    "Bo = Bank()\n",
    "\n",
    "# Test uchun bir nechta account qo‘shamiz\n",
    "Bo.add_account(101, \"Ali\", 500)\n",
    "Bo.add_account(102, \"Vali\", 1000)\n",
    "Bo.add_account(103, \"Gulnoza\", 750)\n",
    "Bo.add_account(104, \"Dilshod\", 300)\n",
    "\n",
    "print(\"\\n--- Boshlang‘ich balanslar ---\")\n",
    "Bo.check_balance(101)\n",
    "Bo.check_balance(102)\n",
    "Bo.check_balance(103)\n",
    "Bo.check_balance(104)\n",
    "\n",
    "# Deposit qilish\n",
    "print(\"\\n--- Deposit qilish ---\")\n",
    "Bo.deposit_money(101, 200)   # Ali hisobiga 200 qo‘shamiz\n",
    "Bo.deposit_money(104, 500)   # Dilshod hisobiga 500 qo‘shamiz\n",
    "\n",
    "# Withdraw qilish\n",
    "print(\"\\n--- Withdraw qilish ---\")\n",
    "Bo.withdraw_money(102, 300)  # Vali hisobidan 300 yechamiz\n",
    "Bo.withdraw_money(103, 800)  # Gulnoza hisobidan 800 yechishga urinamiz\n",
    "\n",
    "# Yakuniy balanslarni ko‘ramiz\n",
    "print(\"\\n--- Yakuniy balanslar ---\")\n",
    "Bo.check_balance(101)\n",
    "Bo.check_balance(102)\n",
    "Bo.check_balance(103)\n",
    "Bo.check_balance(104)\n"
   ]
  }
 ],
 "metadata": {
  "kernelspec": {
   "display_name": "Python 3",
   "language": "python",
   "name": "python3"
  },
  "language_info": {
   "codemirror_mode": {
    "name": "ipython",
    "version": 3
   },
   "file_extension": ".py",
   "mimetype": "text/x-python",
   "name": "python",
   "nbconvert_exporter": "python",
   "pygments_lexer": "ipython3",
   "version": "3.12.9"
  }
 },
 "nbformat": 4,
 "nbformat_minor": 5
}
