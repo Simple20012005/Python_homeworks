{
 "cells": [
  {
   "cell_type": "markdown",
   "id": "57a1e661",
   "metadata": {},
   "source": [
    "1. Age Calculator"
   ]
  },
  {
   "cell_type": "code",
   "execution_count": 1,
   "id": "d51906f9",
   "metadata": {},
   "outputs": [
    {
     "name": "stdout",
     "output_type": "stream",
     "text": [
      "2017\n"
     ]
    }
   ],
   "source": [
    "from datetime import datetime\n",
    "now=datetime.now()\n",
    "a=int(input('Tug`ulgan yilingiz'))\n",
    "print(now.year-a)"
   ]
  },
  {
   "cell_type": "markdown",
   "id": "f75e09f0",
   "metadata": {},
   "source": [
    "2. Extract Car Names"
   ]
  },
  {
   "cell_type": "code",
   "execution_count": 2,
   "id": "738e3a94",
   "metadata": {},
   "outputs": [
    {
     "name": "stdout",
     "output_type": "stream",
     "text": [
      "Malibu\n",
      "Lasetti\n"
     ]
    }
   ],
   "source": [
    "txt = 'LMaasleitbtui'\n",
    "\n",
    "print(txt[1::2])\n",
    "print(txt[::2])"
   ]
  },
  {
   "cell_type": "markdown",
   "id": "fa5fc6fb",
   "metadata": {},
   "source": [
    "3. Extract Car Names"
   ]
  },
  {
   "cell_type": "code",
   "execution_count": 4,
   "id": "6fda3bde",
   "metadata": {},
   "outputs": [
    {
     "name": "stdout",
     "output_type": "stream",
     "text": [
      "Matiz\n",
      "Damas\n"
     ]
    }
   ],
   "source": [
    "txt = 'MsaatmiazD'\n",
    "print(txt[::2])\n",
    "print(txt[::-2])"
   ]
  },
  {
   "cell_type": "markdown",
   "id": "68e76961",
   "metadata": {},
   "source": [
    "4. Extract Residence Area"
   ]
  },
  {
   "cell_type": "code",
   "execution_count": 2,
   "id": "675ec520",
   "metadata": {},
   "outputs": [
    {
     "data": {
      "text/plain": [
       "['London']"
      ]
     },
     "execution_count": 2,
     "metadata": {},
     "output_type": "execute_result"
    }
   ],
   "source": [
    "txt = \"I'am John. I am from London\"\n",
    "\n",
    "txt.split()[5:6:]"
   ]
  },
  {
   "cell_type": "markdown",
   "id": "fa501185",
   "metadata": {},
   "source": [
    "5. Reverse String"
   ]
  },
  {
   "cell_type": "code",
   "execution_count": 12,
   "id": "181baddf",
   "metadata": {},
   "outputs": [
    {
     "name": "stdout",
     "output_type": "stream",
     "text": [
      "kebdoohsliD\n"
     ]
    }
   ],
   "source": [
    "a=str(input())\n",
    "\n",
    "print(a[::-1])"
   ]
  },
  {
   "cell_type": "markdown",
   "id": "e0639111",
   "metadata": {},
   "source": [
    "6. Count Vowels"
   ]
  },
  {
   "cell_type": "code",
   "execution_count": null,
   "id": "3f6c7ef0",
   "metadata": {},
   "outputs": [
    {
     "name": "stdout",
     "output_type": "stream",
     "text": [
      "Unli harflar soni: 3\n"
     ]
    }
   ],
   "source": [
    "text = str(input())\n",
    "\n",
    "vowels = \"aeiouAEIOU\"  \n",
    "count = 0\n",
    "\n",
    "for char in text:\n",
    "    if char in vowels:\n",
    "        count += 1\n",
    "\n",
    "print(\"Unli harflar soni:\", count)\n"
   ]
  },
  {
   "cell_type": "markdown",
   "id": "50c2380f",
   "metadata": {},
   "source": [
    "7. Find Maximum Value"
   ]
  },
  {
   "cell_type": "code",
   "execution_count": 13,
   "id": "3532cf02",
   "metadata": {},
   "outputs": [
    {
     "name": "stdout",
     "output_type": "stream",
     "text": [
      "Eng katta qiymat: 55\n"
     ]
    }
   ],
   "source": [
    "# 1. Foydalanuvchidan sonlar ro‘yxatini olish\n",
    "numbers = list(map(int, input(\"Sonlarni bo'shliq bilan kiriting: \").split()))\n",
    "\n",
    "# 2. Eng katta qiymatni topish\n",
    "maximum_value = max(numbers)\n",
    "\n",
    "# 3. Natijani chiqarish\n",
    "print(\"Eng katta qiymat:\", maximum_value)\n"
   ]
  },
  {
   "cell_type": "markdown",
   "id": "d7aebf5a",
   "metadata": {},
   "source": [
    "8. Check Palindrome"
   ]
  },
  {
   "cell_type": "code",
   "execution_count": 16,
   "id": "8a3e279a",
   "metadata": {},
   "outputs": [
    {
     "name": "stdout",
     "output_type": "stream",
     "text": [
      "Not Palindrome\n"
     ]
    }
   ],
   "source": [
    "x=str(input())\n",
    "y=x[::-1]\n",
    "if x==y:\n",
    "    print('Palindrome')\n",
    "else:\n",
    "    print('Not Palindrome')\n"
   ]
  },
  {
   "cell_type": "markdown",
   "id": "5069e274",
   "metadata": {},
   "source": [
    "9. Extract Email Domain"
   ]
  },
  {
   "cell_type": "code",
   "execution_count": 19,
   "id": "1021a5a5",
   "metadata": {},
   "outputs": [
    {
     "name": "stdout",
     "output_type": "stream",
     "text": [
      "nkbhssdbhsd\n"
     ]
    }
   ],
   "source": [
    "gmail=str(input('Enter your email'))\n",
    "d=gmail.index('@')\n",
    "print(gmail[:d])"
   ]
  },
  {
   "cell_type": "markdown",
   "id": "540574ac",
   "metadata": {},
   "source": [
    "10. Generate Random Password"
   ]
  },
  {
   "cell_type": "code",
   "execution_count": 2,
   "id": "d5bcc861",
   "metadata": {},
   "outputs": [
    {
     "name": "stdout",
     "output_type": "stream",
     "text": [
      "Random Password: GOKZpDm0pW\n"
     ]
    }
   ],
   "source": [
    "import random\n",
    "import string\n",
    "\n",
    "# Parol uzunligini tanlaymiz\n",
    "length = 10  \n",
    "\n",
    "# Harflar + raqamlar\n",
    "characters = string.ascii_letters + string.digits  \n",
    "\n",
    "# Tasodifiy parol yaratish\n",
    "password = ''.join(random.choice(characters) for _ in range(length))\n",
    "\n",
    "print(\"Random Password:\", password)\n"
   ]
  }
 ],
 "metadata": {
  "kernelspec": {
   "display_name": "Python 3",
   "language": "python",
   "name": "python3"
  },
  "language_info": {
   "codemirror_mode": {
    "name": "ipython",
    "version": 3
   },
   "file_extension": ".py",
   "mimetype": "text/x-python",
   "name": "python",
   "nbconvert_exporter": "python",
   "pygments_lexer": "ipython3",
   "version": "3.12.9"
  }
 },
 "nbformat": 4,
 "nbformat_minor": 5
}
