{
 "cells": [
  {
   "cell_type": "markdown",
   "id": "35cbb58e",
   "metadata": {},
   "source": [
    "1. Create and Access List Elements"
   ]
  },
  {
   "cell_type": "code",
   "execution_count": 3,
   "id": "dc2d3c54",
   "metadata": {},
   "outputs": [
    {
     "data": {
      "text/plain": [
       "'apricot'"
      ]
     },
     "execution_count": 3,
     "metadata": {},
     "output_type": "execute_result"
    }
   ],
   "source": [
    "fruits=['apple','orange','banana','apricot','melon']\n",
    "fruits[3]"
   ]
  },
  {
   "cell_type": "markdown",
   "id": "5aa743f5",
   "metadata": {},
   "source": [
    "2. Concatenate Two Lists"
   ]
  },
  {
   "cell_type": "code",
   "execution_count": 1,
   "id": "b82da2c2",
   "metadata": {},
   "outputs": [
    {
     "data": {
      "text/plain": [
       "[1, 2, 3, 5, 7, 9]"
      ]
     },
     "execution_count": 1,
     "metadata": {},
     "output_type": "execute_result"
    }
   ],
   "source": [
    "list1=[1,2,3]\n",
    "list2=[5,7,9]\n",
    "new_list=list1+list2\n",
    "new_list"
   ]
  },
  {
   "cell_type": "markdown",
   "id": "30eace28",
   "metadata": {},
   "source": [
    "3. Extract Elements from a List"
   ]
  },
  {
   "cell_type": "code",
   "execution_count": 34,
   "id": "ce9464ee",
   "metadata": {},
   "outputs": [
    {
     "name": "stdout",
     "output_type": "stream",
     "text": [
      "1\n",
      "[3, 4, 6, 2]\n",
      "10\n"
     ]
    }
   ],
   "source": [
    "numbers=[1,3,4,6,2,10]\n",
    "a,*b,c=numbers\n",
    "print(a)\n",
    "print(b)\n",
    "print(c)"
   ]
  },
  {
   "cell_type": "markdown",
   "id": "290122ca",
   "metadata": {},
   "source": [
    "4. Convert List to Tuple"
   ]
  },
  {
   "cell_type": "code",
   "execution_count": 2,
   "id": "bab3ea9c",
   "metadata": {},
   "outputs": [
    {
     "data": {
      "text/plain": [
       "('Jon Uik', 'American Sniper', 'Enemy at the Gates', 'Shooter', 'The wall')"
      ]
     },
     "execution_count": 2,
     "metadata": {},
     "output_type": "execute_result"
    }
   ],
   "source": [
    "my_list=['Jon Uik','American Sniper','Enemy at the Gates','Shooter','The wall']\n",
    "my_tuple=tuple(my_list)\n",
    "my_tuple"
   ]
  },
  {
   "cell_type": "markdown",
   "id": "498ca415",
   "metadata": {},
   "source": [
    "5. Check Element in a List"
   ]
  },
  {
   "cell_type": "code",
   "execution_count": 43,
   "id": "fd8eced3",
   "metadata": {},
   "outputs": [
    {
     "name": "stdout",
     "output_type": "stream",
     "text": [
      "Paris is in the list ✅\n"
     ]
    }
   ],
   "source": [
    "cities = [\"London\", \"New York\", \"Paris\", \"Berlin\", \"Tokyo\"]\n",
    "\n",
    "if \"Paris\" in cities:\n",
    "    print(\"Paris is in the list ✅\")\n",
    "else:\n",
    "    print(\"Paris is not in the list ❌\")\n"
   ]
  },
  {
   "cell_type": "markdown",
   "id": "a1c028fb",
   "metadata": {},
   "source": [
    "6. Duplicate a List Without Using Loops"
   ]
  },
  {
   "cell_type": "code",
   "execution_count": null,
   "id": "619bf707",
   "metadata": {},
   "outputs": [
    {
     "name": "stdout",
     "output_type": "stream",
     "text": [
      "[1, 3, 4, 6, 2, 10]\n"
     ]
    },
    {
     "data": {
      "text/plain": [
       "[3, 4, 6, 2]"
      ]
     },
     "execution_count": 33,
     "metadata": {},
     "output_type": "execute_result"
    }
   ],
   "source": [
    "numbers=[1,3,4,6,2,10]\n",
    "copy_list=numbers.copy()\n",
    "print(copy_list)\n"
   ]
  },
  {
   "cell_type": "markdown",
   "id": "24d2f719",
   "metadata": {},
   "source": [
    "7. Swap First and Last Elements of a List"
   ]
  },
  {
   "cell_type": "code",
   "execution_count": 42,
   "id": "26a83482",
   "metadata": {},
   "outputs": [
    {
     "name": "stdout",
     "output_type": "stream",
     "text": [
      "[10, 3, 4, 6, 2, 1]\n"
     ]
    }
   ],
   "source": [
    "numbers=[1,3,4,6,2,10]\n",
    "a,*b,c=numbers\n",
    "print([c]+b+[a])\n"
   ]
  },
  {
   "cell_type": "markdown",
   "id": "a5397cdc",
   "metadata": {},
   "source": [
    "8. Slice a Tuple"
   ]
  },
  {
   "cell_type": "code",
   "execution_count": 13,
   "id": "089e856b",
   "metadata": {},
   "outputs": [
    {
     "data": {
      "text/plain": [
       "(3, 4, 5, 6, 7)"
      ]
     },
     "execution_count": 13,
     "metadata": {},
     "output_type": "execute_result"
    }
   ],
   "source": [
    "numberss=(1,2,3,4,5,6,7,8,9,10)\n",
    "numberss[2:7]"
   ]
  },
  {
   "cell_type": "markdown",
   "id": "7f44bfa3",
   "metadata": {},
   "source": [
    "9. Count Occurrences in a List"
   ]
  },
  {
   "cell_type": "code",
   "execution_count": 14,
   "id": "80fecf90",
   "metadata": {},
   "outputs": [
    {
     "data": {
      "text/plain": [
       "3"
      ]
     },
     "execution_count": 14,
     "metadata": {},
     "output_type": "execute_result"
    }
   ],
   "source": [
    "colours=['yellow','blue','red','blue','pinc','blue']\n",
    "colours.count('blue')"
   ]
  },
  {
   "cell_type": "markdown",
   "id": "fa2563aa",
   "metadata": {},
   "source": [
    "10. Find the Index of an Element in a Tuple"
   ]
  },
  {
   "cell_type": "code",
   "execution_count": 15,
   "id": "876a5a2f",
   "metadata": {},
   "outputs": [
    {
     "data": {
      "text/plain": [
       "2"
      ]
     },
     "execution_count": 15,
     "metadata": {},
     "output_type": "execute_result"
    }
   ],
   "source": [
    "animals=('eliphant','crocodile','lion','giraffe')\n",
    "animals.index('lion')"
   ]
  },
  {
   "cell_type": "markdown",
   "id": "b159f981",
   "metadata": {},
   "source": [
    "11. Merge Two Tuples"
   ]
  },
  {
   "cell_type": "code",
   "execution_count": 18,
   "id": "787de32f",
   "metadata": {},
   "outputs": [
    {
     "data": {
      "text/plain": [
       "(1, 2, 3, 4, 5, 12, 9, 14, 40)"
      ]
     },
     "execution_count": 18,
     "metadata": {},
     "output_type": "execute_result"
    }
   ],
   "source": [
    "first=(1,2,3,4,5)\n",
    "second=(12,9,14,40)\n",
    "new_tuple=first+second\n",
    "new_tuple"
   ]
  },
  {
   "cell_type": "markdown",
   "id": "e68e1645",
   "metadata": {},
   "source": [
    "12. Find the Length of a List and Tuple"
   ]
  },
  {
   "cell_type": "code",
   "execution_count": 23,
   "id": "89c1bb64",
   "metadata": {},
   "outputs": [
    {
     "name": "stdout",
     "output_type": "stream",
     "text": [
      "5\n",
      "10\n"
     ]
    }
   ],
   "source": [
    "my_list=['Jon Uik','American Sniper','Enemy at the Gates','Shooter','The wall']\n",
    "numberss=(1,2,3,4,5,6,7,8,9,10)\n",
    "print(len(my_list))\n",
    "print(len(numberss))"
   ]
  },
  {
   "cell_type": "markdown",
   "id": "2a0eec1a",
   "metadata": {},
   "source": [
    "13. Convert Tuple to List"
   ]
  },
  {
   "cell_type": "code",
   "execution_count": 24,
   "id": "d1fb53b7",
   "metadata": {},
   "outputs": [
    {
     "data": {
      "text/plain": [
       "[11, 1, 5, 7, 9]"
      ]
     },
     "execution_count": 24,
     "metadata": {},
     "output_type": "execute_result"
    }
   ],
   "source": [
    "a=(11,1,5,7,9)\n",
    "b=list(a)\n",
    "b"
   ]
  },
  {
   "cell_type": "markdown",
   "id": "7a037313",
   "metadata": {},
   "source": [
    "14. Find Maximum and Minimum in a Tuple"
   ]
  },
  {
   "cell_type": "code",
   "execution_count": 26,
   "id": "3b3cd07c",
   "metadata": {},
   "outputs": [
    {
     "name": "stdout",
     "output_type": "stream",
     "text": [
      "11\n",
      "1\n"
     ]
    }
   ],
   "source": [
    "a=(11,1,5,7,9)\n",
    "print(max(a))\n",
    "print(min(a))"
   ]
  },
  {
   "cell_type": "markdown",
   "id": "b8bd6533",
   "metadata": {},
   "source": [
    "15. Reverse a Tuple"
   ]
  },
  {
   "cell_type": "code",
   "execution_count": 28,
   "id": "36a23ce5",
   "metadata": {},
   "outputs": [
    {
     "data": {
      "text/plain": [
       "('The wall', 'Shooter', 'Enemy at the Gates', 'American Sniper', 'Jon Uik')"
      ]
     },
     "execution_count": 28,
     "metadata": {},
     "output_type": "execute_result"
    }
   ],
   "source": [
    "movies=('Jon Uik','American Sniper','Enemy at the Gates','Shooter','The wall')\n",
    "movies[::-1]"
   ]
  }
 ],
 "metadata": {
  "kernelspec": {
   "display_name": "Python 3",
   "language": "python",
   "name": "python3"
  },
  "language_info": {
   "codemirror_mode": {
    "name": "ipython",
    "version": 3
   },
   "file_extension": ".py",
   "mimetype": "text/x-python",
   "name": "python",
   "nbconvert_exporter": "python",
   "pygments_lexer": "ipython3",
   "version": "3.12.9"
  }
 },
 "nbformat": 4,
 "nbformat_minor": 5
}
