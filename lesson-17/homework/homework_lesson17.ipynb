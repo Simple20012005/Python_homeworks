{
 "cells": [
  {
   "cell_type": "markdown",
   "id": "41d8f044",
   "metadata": {},
   "source": [
    "Homework 1:"
   ]
  },
  {
   "cell_type": "code",
   "execution_count": 2,
   "id": "6738da06",
   "metadata": {},
   "outputs": [
    {
     "data": {
      "text/html": [
       "<div>\n",
       "<style scoped>\n",
       "    .dataframe tbody tr th:only-of-type {\n",
       "        vertical-align: middle;\n",
       "    }\n",
       "\n",
       "    .dataframe tbody tr th {\n",
       "        vertical-align: top;\n",
       "    }\n",
       "\n",
       "    .dataframe thead th {\n",
       "        text-align: right;\n",
       "    }\n",
       "</style>\n",
       "<table border=\"1\" class=\"dataframe\">\n",
       "  <thead>\n",
       "    <tr style=\"text-align: right;\">\n",
       "      <th></th>\n",
       "      <th>First Name</th>\n",
       "      <th>Age</th>\n",
       "      <th>City</th>\n",
       "    </tr>\n",
       "  </thead>\n",
       "  <tbody>\n",
       "    <tr>\n",
       "      <th>0</th>\n",
       "      <td>Alice</td>\n",
       "      <td>25</td>\n",
       "      <td>New York</td>\n",
       "    </tr>\n",
       "    <tr>\n",
       "      <th>1</th>\n",
       "      <td>Bob</td>\n",
       "      <td>30</td>\n",
       "      <td>San Francisco</td>\n",
       "    </tr>\n",
       "    <tr>\n",
       "      <th>2</th>\n",
       "      <td>Charlie</td>\n",
       "      <td>35</td>\n",
       "      <td>Los Angeles</td>\n",
       "    </tr>\n",
       "    <tr>\n",
       "      <th>3</th>\n",
       "      <td>David</td>\n",
       "      <td>40</td>\n",
       "      <td>Chicago</td>\n",
       "    </tr>\n",
       "  </tbody>\n",
       "</table>\n",
       "</div>"
      ],
      "text/plain": [
       "  First Name  Age           City\n",
       "0      Alice   25       New York\n",
       "1        Bob   30  San Francisco\n",
       "2    Charlie   35    Los Angeles\n",
       "3      David   40        Chicago"
      ]
     },
     "execution_count": 2,
     "metadata": {},
     "output_type": "execute_result"
    }
   ],
   "source": [
    "import pandas as pd\n",
    "\n",
    "data = {'First Name': ['Alice', 'Bob', 'Charlie', 'David'], 'Age': [25, 30, 35, 40], 'City': ['New York', 'San Francisco', 'Los Angeles', 'Chicago']} \n",
    "df = pd.DataFrame(data)\n",
    "\n",
    "df"
   ]
  },
  {
   "cell_type": "markdown",
   "id": "23f080b6",
   "metadata": {},
   "source": [
    "1.Rename column names using function. \"First Name\" --> \"first_name\", \"Age\" --> \"age"
   ]
  },
  {
   "cell_type": "code",
   "execution_count": 4,
   "id": "c84ad598",
   "metadata": {},
   "outputs": [
    {
     "data": {
      "text/html": [
       "<div>\n",
       "<style scoped>\n",
       "    .dataframe tbody tr th:only-of-type {\n",
       "        vertical-align: middle;\n",
       "    }\n",
       "\n",
       "    .dataframe tbody tr th {\n",
       "        vertical-align: top;\n",
       "    }\n",
       "\n",
       "    .dataframe thead th {\n",
       "        text-align: right;\n",
       "    }\n",
       "</style>\n",
       "<table border=\"1\" class=\"dataframe\">\n",
       "  <thead>\n",
       "    <tr style=\"text-align: right;\">\n",
       "      <th></th>\n",
       "      <th>first_name</th>\n",
       "      <th>age</th>\n",
       "      <th>City</th>\n",
       "    </tr>\n",
       "  </thead>\n",
       "  <tbody>\n",
       "    <tr>\n",
       "      <th>0</th>\n",
       "      <td>Alice</td>\n",
       "      <td>25</td>\n",
       "      <td>New York</td>\n",
       "    </tr>\n",
       "    <tr>\n",
       "      <th>1</th>\n",
       "      <td>Bob</td>\n",
       "      <td>30</td>\n",
       "      <td>San Francisco</td>\n",
       "    </tr>\n",
       "    <tr>\n",
       "      <th>2</th>\n",
       "      <td>Charlie</td>\n",
       "      <td>35</td>\n",
       "      <td>Los Angeles</td>\n",
       "    </tr>\n",
       "    <tr>\n",
       "      <th>3</th>\n",
       "      <td>David</td>\n",
       "      <td>40</td>\n",
       "      <td>Chicago</td>\n",
       "    </tr>\n",
       "  </tbody>\n",
       "</table>\n",
       "</div>"
      ],
      "text/plain": [
       "  first_name  age           City\n",
       "0      Alice   25       New York\n",
       "1        Bob   30  San Francisco\n",
       "2    Charlie   35    Los Angeles\n",
       "3      David   40        Chicago"
      ]
     },
     "execution_count": 4,
     "metadata": {},
     "output_type": "execute_result"
    }
   ],
   "source": [
    "df.columns=['first_name', 'age', 'City']\n",
    "df"
   ]
  },
  {
   "cell_type": "markdown",
   "id": "db2b328d",
   "metadata": {},
   "source": [
    "2.Print the first 3 rows of the DataFrame"
   ]
  },
  {
   "cell_type": "code",
   "execution_count": null,
   "id": "4fe9cf38",
   "metadata": {},
   "outputs": [],
   "source": [
    "print(df.head(3))"
   ]
  },
  {
   "cell_type": "markdown",
   "id": "8a719980",
   "metadata": {},
   "source": [
    "3.Find the mean age of the individuals"
   ]
  },
  {
   "cell_type": "code",
   "execution_count": null,
   "id": "3fd2fbac",
   "metadata": {},
   "outputs": [],
   "source": [
    "print(\"The  mean age of the individuals :\",df[\"age\"].mean())"
   ]
  },
  {
   "cell_type": "markdown",
   "id": "1f57ae19",
   "metadata": {},
   "source": [
    "4.Select and print only the 'Name' and 'City' columns"
   ]
  },
  {
   "cell_type": "code",
   "execution_count": 5,
   "id": "08859e07",
   "metadata": {},
   "outputs": [
    {
     "name": "stdout",
     "output_type": "stream",
     "text": [
      "  first_name           City\n",
      "0      Alice       New York\n",
      "1        Bob  San Francisco\n",
      "2    Charlie    Los Angeles\n",
      "3      David        Chicago\n"
     ]
    }
   ],
   "source": [
    "print(df[[\"first_name\",\"City\"]])"
   ]
  },
  {
   "cell_type": "markdown",
   "id": "abbc8aea",
   "metadata": {},
   "source": [
    "5.Add a new column 'Salary' with random salary values"
   ]
  },
  {
   "cell_type": "code",
   "execution_count": 27,
   "id": "29aae9ef",
   "metadata": {},
   "outputs": [
    {
     "data": {
      "text/html": [
       "<div>\n",
       "<style scoped>\n",
       "    .dataframe tbody tr th:only-of-type {\n",
       "        vertical-align: middle;\n",
       "    }\n",
       "\n",
       "    .dataframe tbody tr th {\n",
       "        vertical-align: top;\n",
       "    }\n",
       "\n",
       "    .dataframe thead th {\n",
       "        text-align: right;\n",
       "    }\n",
       "</style>\n",
       "<table border=\"1\" class=\"dataframe\">\n",
       "  <thead>\n",
       "    <tr style=\"text-align: right;\">\n",
       "      <th></th>\n",
       "      <th>first_name</th>\n",
       "      <th>age</th>\n",
       "      <th>City</th>\n",
       "      <th>Salary</th>\n",
       "    </tr>\n",
       "  </thead>\n",
       "  <tbody>\n",
       "    <tr>\n",
       "      <th>0</th>\n",
       "      <td>Alice</td>\n",
       "      <td>25</td>\n",
       "      <td>New York</td>\n",
       "      <td>4766</td>\n",
       "    </tr>\n",
       "    <tr>\n",
       "      <th>1</th>\n",
       "      <td>Bob</td>\n",
       "      <td>30</td>\n",
       "      <td>San Francisco</td>\n",
       "      <td>3543</td>\n",
       "    </tr>\n",
       "    <tr>\n",
       "      <th>2</th>\n",
       "      <td>Charlie</td>\n",
       "      <td>35</td>\n",
       "      <td>Los Angeles</td>\n",
       "      <td>1057</td>\n",
       "    </tr>\n",
       "    <tr>\n",
       "      <th>3</th>\n",
       "      <td>David</td>\n",
       "      <td>40</td>\n",
       "      <td>Chicago</td>\n",
       "      <td>3024</td>\n",
       "    </tr>\n",
       "  </tbody>\n",
       "</table>\n",
       "</div>"
      ],
      "text/plain": [
       "  first_name  age           City  Salary\n",
       "0      Alice   25       New York    4766\n",
       "1        Bob   30  San Francisco    3543\n",
       "2    Charlie   35    Los Angeles    1057\n",
       "3      David   40        Chicago    3024"
      ]
     },
     "execution_count": 27,
     "metadata": {},
     "output_type": "execute_result"
    }
   ],
   "source": [
    "import numpy as np\n",
    "\n",
    "df[ 'Salary']=np.random.randint(1000,8000,size=(df.index.max()+1,1))\n",
    "df"
   ]
  },
  {
   "cell_type": "markdown",
   "id": "8bffbc60",
   "metadata": {},
   "source": [
    "6.Display summary statistics of the DataFrame"
   ]
  },
  {
   "cell_type": "code",
   "execution_count": 28,
   "id": "1ff2213b",
   "metadata": {},
   "outputs": [
    {
     "data": {
      "text/html": [
       "<div>\n",
       "<style scoped>\n",
       "    .dataframe tbody tr th:only-of-type {\n",
       "        vertical-align: middle;\n",
       "    }\n",
       "\n",
       "    .dataframe tbody tr th {\n",
       "        vertical-align: top;\n",
       "    }\n",
       "\n",
       "    .dataframe thead th {\n",
       "        text-align: right;\n",
       "    }\n",
       "</style>\n",
       "<table border=\"1\" class=\"dataframe\">\n",
       "  <thead>\n",
       "    <tr style=\"text-align: right;\">\n",
       "      <th></th>\n",
       "      <th>age</th>\n",
       "      <th>Salary</th>\n",
       "    </tr>\n",
       "  </thead>\n",
       "  <tbody>\n",
       "    <tr>\n",
       "      <th>count</th>\n",
       "      <td>4.000000</td>\n",
       "      <td>4.000000</td>\n",
       "    </tr>\n",
       "    <tr>\n",
       "      <th>mean</th>\n",
       "      <td>32.500000</td>\n",
       "      <td>3097.500000</td>\n",
       "    </tr>\n",
       "    <tr>\n",
       "      <th>std</th>\n",
       "      <td>6.454972</td>\n",
       "      <td>1543.956498</td>\n",
       "    </tr>\n",
       "    <tr>\n",
       "      <th>min</th>\n",
       "      <td>25.000000</td>\n",
       "      <td>1057.000000</td>\n",
       "    </tr>\n",
       "    <tr>\n",
       "      <th>25%</th>\n",
       "      <td>28.750000</td>\n",
       "      <td>2532.250000</td>\n",
       "    </tr>\n",
       "    <tr>\n",
       "      <th>50%</th>\n",
       "      <td>32.500000</td>\n",
       "      <td>3283.500000</td>\n",
       "    </tr>\n",
       "    <tr>\n",
       "      <th>75%</th>\n",
       "      <td>36.250000</td>\n",
       "      <td>3848.750000</td>\n",
       "    </tr>\n",
       "    <tr>\n",
       "      <th>max</th>\n",
       "      <td>40.000000</td>\n",
       "      <td>4766.000000</td>\n",
       "    </tr>\n",
       "  </tbody>\n",
       "</table>\n",
       "</div>"
      ],
      "text/plain": [
       "             age       Salary\n",
       "count   4.000000     4.000000\n",
       "mean   32.500000  3097.500000\n",
       "std     6.454972  1543.956498\n",
       "min    25.000000  1057.000000\n",
       "25%    28.750000  2532.250000\n",
       "50%    32.500000  3283.500000\n",
       "75%    36.250000  3848.750000\n",
       "max    40.000000  4766.000000"
      ]
     },
     "execution_count": 28,
     "metadata": {},
     "output_type": "execute_result"
    }
   ],
   "source": [
    "df.describe()"
   ]
  },
  {
   "cell_type": "markdown",
   "id": "ecba16c2",
   "metadata": {},
   "source": [
    "Homework 2:"
   ]
  },
  {
   "cell_type": "markdown",
   "id": "394bcab2",
   "metadata": {},
   "source": [
    "1.Create a DataFrame named sales_and_expenses with columns 'Month', 'Sales', and 'Expenses', representing monthly sales and expenses data. Use below table."
   ]
  },
  {
   "cell_type": "code",
   "execution_count": 29,
   "id": "104f6569",
   "metadata": {},
   "outputs": [
    {
     "data": {
      "text/html": [
       "<div>\n",
       "<style scoped>\n",
       "    .dataframe tbody tr th:only-of-type {\n",
       "        vertical-align: middle;\n",
       "    }\n",
       "\n",
       "    .dataframe tbody tr th {\n",
       "        vertical-align: top;\n",
       "    }\n",
       "\n",
       "    .dataframe thead th {\n",
       "        text-align: right;\n",
       "    }\n",
       "</style>\n",
       "<table border=\"1\" class=\"dataframe\">\n",
       "  <thead>\n",
       "    <tr style=\"text-align: right;\">\n",
       "      <th></th>\n",
       "      <th>Month</th>\n",
       "      <th>Sales</th>\n",
       "      <th>Expenses</th>\n",
       "    </tr>\n",
       "  </thead>\n",
       "  <tbody>\n",
       "    <tr>\n",
       "      <th>0</th>\n",
       "      <td>Jan</td>\n",
       "      <td>5000</td>\n",
       "      <td>3000</td>\n",
       "    </tr>\n",
       "    <tr>\n",
       "      <th>1</th>\n",
       "      <td>Feb</td>\n",
       "      <td>6000</td>\n",
       "      <td>3500</td>\n",
       "    </tr>\n",
       "    <tr>\n",
       "      <th>2</th>\n",
       "      <td>Mar</td>\n",
       "      <td>7500</td>\n",
       "      <td>4000</td>\n",
       "    </tr>\n",
       "    <tr>\n",
       "      <th>3</th>\n",
       "      <td>Apr</td>\n",
       "      <td>8000</td>\n",
       "      <td>4500</td>\n",
       "    </tr>\n",
       "  </tbody>\n",
       "</table>\n",
       "</div>"
      ],
      "text/plain": [
       "  Month  Sales  Expenses\n",
       "0   Jan   5000      3000\n",
       "1   Feb   6000      3500\n",
       "2   Mar   7500      4000\n",
       "3   Apr   8000      4500"
      ]
     },
     "execution_count": 29,
     "metadata": {},
     "output_type": "execute_result"
    }
   ],
   "source": [
    "import pandas as pd\n",
    "\n",
    "data={'Month':['Jan','Feb',\"Mar\",'Apr'],'Sales':[5000,6000,7500,8000],'Expenses':[3000,3500,4000,4500]}\n",
    "sales_and_expenses =pd.DataFrame(data)\n",
    "sales_and_expenses "
   ]
  },
  {
   "cell_type": "markdown",
   "id": "e28a3ade",
   "metadata": {},
   "source": [
    "2.Calculate and display the maximum sales and expenses."
   ]
  },
  {
   "cell_type": "code",
   "execution_count": null,
   "id": "0ff7416d",
   "metadata": {},
   "outputs": [
    {
     "name": "stdout",
     "output_type": "stream",
     "text": [
      "The maximun Sales amount: 8000\n",
      "The maximum Expenses amount: 4500\n"
     ]
    }
   ],
   "source": [
    "print(\"The maximun Sales amount:\",sales_and_expenses ['Sales'].max())\n",
    "print(\"The maximum Expenses amount:\",sales_and_expenses ['Expenses'].max())"
   ]
  },
  {
   "cell_type": "markdown",
   "id": "6f56c46b",
   "metadata": {},
   "source": [
    "3.Calculate and display the minimum sales and expenses."
   ]
  },
  {
   "cell_type": "code",
   "execution_count": null,
   "id": "8990bf19",
   "metadata": {},
   "outputs": [
    {
     "name": "stdout",
     "output_type": "stream",
     "text": [
      "Sales       5000\n",
      "Expenses    3000\n",
      "dtype: int64\n"
     ]
    }
   ],
   "source": [
    "print(sales_and_expenses .agg({'Sales':\"min\",'Expenses':\"min\"}))"
   ]
  },
  {
   "cell_type": "code",
   "execution_count": null,
   "id": "8185cd3b",
   "metadata": {},
   "outputs": [
    {
     "name": "stdout",
     "output_type": "stream",
     "text": [
      "Sales       6625.0\n",
      "Expenses    3750.0\n",
      "dtype: float64\n"
     ]
    }
   ],
   "source": [
    "print(sales_and_expenses .agg({'Sales':\"mean\",'Expenses':\"mean\"}))"
   ]
  },
  {
   "cell_type": "markdown",
   "id": "5b68fc52",
   "metadata": {},
   "source": [
    "Homework 3:"
   ]
  },
  {
   "cell_type": "markdown",
   "id": "5c0784c9",
   "metadata": {},
   "source": [
    "1.Create a DataFrame named expenses with columns 'Category', 'January', 'February', 'March', and 'April', representing monthly expenses for different categories. Use below table."
   ]
  },
  {
   "cell_type": "code",
   "execution_count": 1,
   "id": "c0d3fff1",
   "metadata": {},
   "outputs": [
    {
     "data": {
      "text/html": [
       "<div>\n",
       "<style scoped>\n",
       "    .dataframe tbody tr th:only-of-type {\n",
       "        vertical-align: middle;\n",
       "    }\n",
       "\n",
       "    .dataframe tbody tr th {\n",
       "        vertical-align: top;\n",
       "    }\n",
       "\n",
       "    .dataframe thead th {\n",
       "        text-align: right;\n",
       "    }\n",
       "</style>\n",
       "<table border=\"1\" class=\"dataframe\">\n",
       "  <thead>\n",
       "    <tr style=\"text-align: right;\">\n",
       "      <th></th>\n",
       "      <th>Category</th>\n",
       "      <th>January</th>\n",
       "      <th>February</th>\n",
       "      <th>March</th>\n",
       "      <th>April</th>\n",
       "    </tr>\n",
       "  </thead>\n",
       "  <tbody>\n",
       "    <tr>\n",
       "      <th>0</th>\n",
       "      <td>Rent</td>\n",
       "      <td>1200</td>\n",
       "      <td>1300</td>\n",
       "      <td>1400</td>\n",
       "      <td>1500</td>\n",
       "    </tr>\n",
       "    <tr>\n",
       "      <th>1</th>\n",
       "      <td>Utilities</td>\n",
       "      <td>200</td>\n",
       "      <td>220</td>\n",
       "      <td>240</td>\n",
       "      <td>250</td>\n",
       "    </tr>\n",
       "    <tr>\n",
       "      <th>2</th>\n",
       "      <td>Groceries</td>\n",
       "      <td>300</td>\n",
       "      <td>320</td>\n",
       "      <td>330</td>\n",
       "      <td>350</td>\n",
       "    </tr>\n",
       "    <tr>\n",
       "      <th>3</th>\n",
       "      <td>Entertainment</td>\n",
       "      <td>150</td>\n",
       "      <td>160</td>\n",
       "      <td>160</td>\n",
       "      <td>280</td>\n",
       "    </tr>\n",
       "  </tbody>\n",
       "</table>\n",
       "</div>"
      ],
      "text/plain": [
       "        Category  January  February  March  April\n",
       "0           Rent     1200      1300   1400   1500\n",
       "1      Utilities      200       220    240    250\n",
       "2      Groceries      300       320    330    350\n",
       "3  Entertainment      150       160    160    280"
      ]
     },
     "execution_count": 1,
     "metadata": {},
     "output_type": "execute_result"
    }
   ],
   "source": [
    "import pandas as pd\n",
    "\n",
    "data={'Category':['Rent','Utilities','Groceries','Entertainment'],\n",
    "      'January':[1200,200,300,150],\n",
    "      'February':[1300,220,320,160],\n",
    "      'March':[1400,240,330,160],\n",
    "      'April':[1500,250,350,280]\n",
    "      }\n",
    "expenses=pd.DataFrame(data)\n",
    "expenses"
   ]
  },
  {
   "cell_type": "markdown",
   "id": "6ab46b6d",
   "metadata": {},
   "source": [
    "2.Calculate and display the maximum expense for each category."
   ]
  },
  {
   "cell_type": "code",
   "execution_count": 2,
   "id": "cc2052d7",
   "metadata": {},
   "outputs": [
    {
     "name": "stdout",
     "output_type": "stream",
     "text": [
      "        Category  Max_Expense\n",
      "0           Rent         1500\n",
      "1      Utilities          250\n",
      "2      Groceries          350\n",
      "3  Entertainment          280\n"
     ]
    }
   ],
   "source": [
    "expenses[\"Max_Expense\"] = expenses.loc[:, \"January\":\"April\"].max(axis=1)\n",
    "\n",
    "print(expenses[[\"Category\", \"Max_Expense\"]])\n",
    "\n"
   ]
  },
  {
   "cell_type": "markdown",
   "id": "01ac3198",
   "metadata": {},
   "source": [
    "3.Calculate and display the minimum expense for each category."
   ]
  },
  {
   "cell_type": "code",
   "execution_count": 3,
   "id": "c73fed1b",
   "metadata": {},
   "outputs": [
    {
     "name": "stdout",
     "output_type": "stream",
     "text": [
      "        Category  Min_Expense\n",
      "0           Rent         1200\n",
      "1      Utilities          200\n",
      "2      Groceries          300\n",
      "3  Entertainment          150\n"
     ]
    }
   ],
   "source": [
    "expenses[\"Min_Expense\"] = expenses.loc[:, \"January\":\"April\"].min(axis=1)\n",
    "\n",
    "print(expenses[[\"Category\", \"Min_Expense\"]])"
   ]
  },
  {
   "cell_type": "markdown",
   "id": "c9bc84eb",
   "metadata": {},
   "source": [
    "4.Calculate and display the average expense for each category."
   ]
  },
  {
   "cell_type": "code",
   "execution_count": 4,
   "id": "c79b0f83",
   "metadata": {},
   "outputs": [
    {
     "name": "stdout",
     "output_type": "stream",
     "text": [
      "        Category  Mean_Expense\n",
      "0           Rent        1350.0\n",
      "1      Utilities         227.5\n",
      "2      Groceries         325.0\n",
      "3  Entertainment         187.5\n"
     ]
    }
   ],
   "source": [
    "expenses[\"Mean_Expense\"] = expenses.loc[:, \"January\":\"April\"].mean(axis=1)\n",
    "\n",
    "print(expenses[[\"Category\", \"Mean_Expense\"]])"
   ]
  }
 ],
 "metadata": {
  "kernelspec": {
   "display_name": "Python 3",
   "language": "python",
   "name": "python3"
  },
  "language_info": {
   "codemirror_mode": {
    "name": "ipython",
    "version": 3
   },
   "file_extension": ".py",
   "mimetype": "text/x-python",
   "name": "python",
   "nbconvert_exporter": "python",
   "pygments_lexer": "ipython3",
   "version": "3.12.9"
  }
 },
 "nbformat": 4,
 "nbformat_minor": 5
}
