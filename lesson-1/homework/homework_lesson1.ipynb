{
 "cells": [
  {
   "cell_type": "code",
   "execution_count": null,
   "id": "0eae03d5",
   "metadata": {},
   "outputs": [
    {
     "name": "stdout",
     "output_type": "stream",
     "text": [
      "perimeter: 20.0\n",
      "area: 25.0\n"
     ]
    }
   ],
   "source": [
    "a=float(input('Enter the side of the square'))\n",
    "\n",
    "perimeter=a*4\n",
    "area=a*a\n",
    "print('perimeter:',perimeter)\n",
    "print('area:',area)\n"
   ]
  },
  {
   "cell_type": "code",
   "execution_count": 11,
   "id": "c15cb1cd",
   "metadata": {},
   "outputs": [
    {
     "name": "stdout",
     "output_type": "stream",
     "text": [
      "Length of circle 31.41592653589793\n"
     ]
    }
   ],
   "source": [
    "a=float(input('Enter the diameter of circle'))\n",
    "\n",
    "import math\n",
    "\n",
    "def circle_length(a):\n",
    "    return 2*math.pi*a\n",
    "print('Length of circle',circle_length(a))\n"
   ]
  },
  {
   "cell_type": "code",
   "execution_count": 15,
   "id": "f1d6ced7",
   "metadata": {},
   "outputs": [
    {
     "name": "stdout",
     "output_type": "stream",
     "text": [
      "Mean: 7.5\n"
     ]
    }
   ],
   "source": [
    "a=float(input('Enter a'))\n",
    "b=float(input('Enter b'))\n",
    "\n",
    "x=(a+b)/2\n",
    "\n",
    "print('Mean:',x)"
   ]
  },
  {
   "cell_type": "code",
   "execution_count": 21,
   "id": "0a31da32",
   "metadata": {},
   "outputs": [
    {
     "name": "stdout",
     "output_type": "stream",
     "text": [
      "Sum: 11.0\n",
      "product: 30.0\n",
      "square_a: 25.0\n",
      "square_b: 36.0\n"
     ]
    }
   ],
   "source": [
    "a=float(input('Enter a'))\n",
    "b=float(input('Enter b'))\n",
    "\n",
    "S=a+b\n",
    "product=a*b\n",
    "square_a=a*a\n",
    "square_b=b*b\n",
    "print('Sum:',S)\n",
    "print('product:',product)\n",
    "print('square_a:',square_a)\n",
    "print('square_b:',square_b)"
   ]
  }
 ],
 "metadata": {
  "kernelspec": {
   "display_name": "Python 3",
   "language": "python",
   "name": "python3"
  },
  "language_info": {
   "codemirror_mode": {
    "name": "ipython",
    "version": 3
   },
   "file_extension": ".py",
   "mimetype": "text/x-python",
   "name": "python",
   "nbconvert_exporter": "python",
   "pygments_lexer": "ipython3",
   "version": "3.12.9"
  }
 },
 "nbformat": 4,
 "nbformat_minor": 5
}
