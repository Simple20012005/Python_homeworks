{
 "cells": [
  {
   "cell_type": "markdown",
   "id": "f9d0c2fa",
   "metadata": {},
   "source": [
    "1.Create your own virtual environment and install some python packages."
   ]
  },
  {
   "cell_type": "markdown",
   "id": "deac2cac",
   "metadata": {},
   "source": [
    "1.cd D:\\projects\\python\n",
    "2.python -m venv myenv\n",
    "3.\\myenv\\Scripts\\Activate\n",
    "4.pip install requests numpy pandas\n",
    "5.pip list\n",
    "6.deactivate\n",
    "\n",
    "\n",
    "\n",
    "1-Loyiha joylashgan papkaga kirish\n",
    "2-Virtual environment yaratish\n",
    "3-Virtual environment’ni ishga tushirish\n",
    "4-Kerakli paketlarni o‘rnatish\n",
    "5-O‘rnatilgan paketlarni tekshirish\n",
    "6-deactivate qilish"
   ]
  },
  {
   "cell_type": "markdown",
   "id": "fc80f040",
   "metadata": {},
   "source": [
    "2.Create custom modules."
   ]
  },
  {
   "cell_type": "markdown",
   "id": "cd2405ac",
   "metadata": {},
   "source": [
    "Create math_operations.py module. Define add, subtract, multiply and divide functions in it. (All functions accept two arguments in this task)"
   ]
  },
  {
   "cell_type": "code",
   "execution_count": 1,
   "id": "b4f4d7fd",
   "metadata": {},
   "outputs": [],
   "source": [
    "with open(\"math_operations.py\",\"w\") as file:\n",
    "    file.write(\"\"\"\n",
    "def add(a,b):\n",
    "    return a+b\n",
    "\n",
    "def subtract(a,b):\n",
    "    return a-b\n",
    "\n",
    "def multiply(a,b):\n",
    "    return a*b\n",
    "\n",
    "def divide(a,b):\n",
    "    return a/b\n",
    "               \"\"\")"
   ]
  },
  {
   "cell_type": "markdown",
   "id": "5c7828d1",
   "metadata": {},
   "source": [
    "Create string_utils.py module. Define reverse_string and count_vowels functions in it. (All functions accept one argument in this task)"
   ]
  },
  {
   "cell_type": "code",
   "execution_count": 7,
   "id": "5f47e112",
   "metadata": {},
   "outputs": [],
   "source": [
    "with open(\"string_utils.py\",\"w\") as file:\n",
    "    file.write(\"\"\"\n",
    "def reverse_string(string):\n",
    "    return string[::-1]\n",
    "\n",
    "def count_vowels(string):\n",
    "    vowels = \"aeiouAEIOU\"\n",
    "    result = [char for char in string if char in vowels]\n",
    "    return result \n",
    "               \"\"\")"
   ]
  },
  {
   "cell_type": "markdown",
   "id": "828f31d7",
   "metadata": {},
   "source": [
    "3.Create custom packages."
   ]
  },
  {
   "cell_type": "markdown",
   "id": "b70d76ca",
   "metadata": {},
   "source": [
    "Create geometry package."
   ]
  },
  {
   "cell_type": "code",
   "execution_count": 8,
   "id": "393a3e00",
   "metadata": {},
   "outputs": [],
   "source": [
    "import os\n",
    "\n",
    "package_name=\"geometry\"\n",
    "\n",
    "os.makedirs(package_name,exist_ok=True)\n",
    "\n",
    "with open(f\"{package_name}/__init__.py\",\"w\") as file:\n",
    "    pass\n",
    "\n",
    "with open(f\"{package_name}/circle.py\",\"w\") as file:\n",
    "    file.write(\"\"\"\n",
    "import math \n",
    "\n",
    "def calculate_area(radius):\n",
    "    return math.pi*radius**2\n",
    "\n",
    "def calculate_circumference(radius):\n",
    "    return 2*math.pi*radius\n",
    "               \"\"\")\n",
    "    \n"
   ]
  },
  {
   "cell_type": "markdown",
   "id": "35d0bdb7",
   "metadata": {},
   "source": [
    "Create file_operations package."
   ]
  },
  {
   "cell_type": "code",
   "execution_count": 17,
   "id": "7f5aceb7",
   "metadata": {},
   "outputs": [],
   "source": [
    "import os\n",
    "\n",
    "package_name=\"file_operations\"\n",
    "\n",
    "os.makedirs(package_name,exist_ok=True)\n",
    "\n",
    "with open(f\"{package_name}/__init__.py\",\"w\") as file:\n",
    "    pass\n",
    "\n",
    "with open(f\"{package_name}/file_reader.py\",\"w\") as file:\n",
    "    file.write(\"\"\"\n",
    "def read_file(file_path):\n",
    "    with open(file_path,\"r\") as file:\n",
    "         print(file.read())\n",
    "               \"\"\")\n",
    "    \n",
    "with open(f\"{package_name}/file_writer.py\",\"w\") as file:\n",
    "    file.write(\"\"\"\n",
    "def write_file (file_path, content):\n",
    "    with open(file_path,\"w\") as file:\n",
    "         file.write(content)\n",
    "         print(\"content yozildi!\")        \n",
    "     \"\"\")"
   ]
  }
 ],
 "metadata": {
  "kernelspec": {
   "display_name": "Python 3",
   "language": "python",
   "name": "python3"
  },
  "language_info": {
   "codemirror_mode": {
    "name": "ipython",
    "version": 3
   },
   "file_extension": ".py",
   "mimetype": "text/x-python",
   "name": "python",
   "nbconvert_exporter": "python",
   "pygments_lexer": "ipython3",
   "version": "3.12.9"
  }
 },
 "nbformat": 4,
 "nbformat_minor": 5
}
