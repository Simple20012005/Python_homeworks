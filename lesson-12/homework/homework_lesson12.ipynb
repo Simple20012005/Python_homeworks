{
 "cells": [
  {
   "cell_type": "markdown",
   "id": "81e5412d",
   "metadata": {},
   "source": [
    "Exercise 1: Threaded Prime Number Checker"
   ]
  },
  {
   "cell_type": "code",
   "execution_count": null,
   "id": "b0dcfa7d",
   "metadata": {},
   "outputs": [],
   "source": [
    "import threading\n",
    "\n",
    "def prime_checker(start,end):\n",
    "    for x in range(start,end):\n",
    "        if x>1:\n",
    "            for i in range(2,int(x**0.5)+1):\n",
    "                if x%i==0:\n",
    "                    break\n",
    "            else:\n",
    "                print(x)\n",
    "\n",
    "\n",
    "t1 = threading.Thread(target=prime_checker, args=(1, 25000))\n",
    "t2 = threading.Thread(target=prime_checker, args=(25001, 50000))\n",
    "t3 = threading.Thread(target=prime_checker, args=(50001, 75000))\n",
    "t4 = threading.Thread(target=prime_checker, args=(75001, 100000))\n",
    "\n",
    "# Ishga tushirish\n",
    "for t in [t1, t2, t3, t4]:\n",
    "    t.start()\n",
    "for t in [t1, t2, t3, t4]:\n",
    "    t.join()"
   ]
  },
  {
   "cell_type": "markdown",
   "id": "b185508f",
   "metadata": {},
   "source": [
    "Exercise 2: Threaded File Processing"
   ]
  },
  {
   "cell_type": "code",
   "execution_count": null,
   "id": "264a1c42",
   "metadata": {},
   "outputs": [],
   "source": [
    "import threading\n",
    "from collections import Counter\n",
    "\n",
    "# Har bir thread ishlaydigan funksiya\n",
    "def count_words(lines, result, index):\n",
    "    words = []\n",
    "    for line in lines:\n",
    "        words.extend(line.strip().split())\n",
    "    result[index] = Counter(words)   # Thread natijasini saqlash\n",
    "\n",
    "def threaded_word_count(file_path, num_threads=4):\n",
    "    # Fayldan satrlarni o‘qish\n",
    "    with open(file_path, \"r\", encoding=\"utf-8\") as f:\n",
    "        lines = f.readlines()\n",
    "\n",
    "    # Satrlarni threadlar soniga qarab bo‘lish\n",
    "    chunk_size = len(lines) // num_threads\n",
    "    threads = []\n",
    "    results = [None] * num_threads   # Har bir thread natijasini saqlash\n",
    "\n",
    "    for i in range(num_threads):\n",
    "        start = i * chunk_size\n",
    "        end = (i + 1) * chunk_size if i != num_threads - 1 else len(lines)\n",
    "        t = threading.Thread(target=count_words, args=(lines[start:end], results, i))\n",
    "        threads.append(t)\n",
    "        t.start()\n",
    "\n",
    "    # Threadlarni kutib turish\n",
    "    for t in threads:\n",
    "        t.join()\n",
    "\n",
    "    # Natijalarni birlashtirish\n",
    "    total_counter = Counter()\n",
    "    for c in results:\n",
    "        total_counter.update(c)\n",
    "\n",
    "    return total_counter\n",
    "\n",
    "\n",
    "# === TEST QILISH ===\n",
    "if __name__ == \"__main__\":\n",
    "    file_path = \"big_text.txt\"   # o‘z faylingizni yozing\n",
    "    result = threaded_word_count(file_path, num_threads=4)\n",
    "\n",
    "    # Eng ko‘p uchragan 10 ta so‘zni chiqarish\n",
    "    for word, count in result.most_common(10):\n",
    "        print(f\"{word}: {count}\")\n"
   ]
  }
 ],
 "metadata": {
  "language_info": {
   "name": "python"
  }
 },
 "nbformat": 4,
 "nbformat_minor": 5
}
