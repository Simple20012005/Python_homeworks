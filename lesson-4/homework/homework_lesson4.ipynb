{
 "cells": [
  {
   "cell_type": "markdown",
   "id": "c69f1cf0",
   "metadata": {},
   "source": [
    "Dictionary Exercises"
   ]
  },
  {
   "cell_type": "markdown",
   "id": "9cb85bef",
   "metadata": {},
   "source": [
    "1. Sort a Dictionary by Value"
   ]
  },
  {
   "cell_type": "code",
   "execution_count": 6,
   "id": "08de20b2",
   "metadata": {},
   "outputs": [
    {
     "name": "stdout",
     "output_type": "stream",
     "text": [
      "Descending: {'Banana': 10, 'Apple': 6, 'Limon': 2}\n",
      "Ascending: {'Limon': 2, 'Apple': 6, 'Banana': 10}\n"
     ]
    }
   ],
   "source": [
    "my_dict={'Apple':6,'Banana':10,'Limon':2}\n",
    "asc_dic=dict(sorted(my_dict.items(),key=lambda item: item[1]))\n",
    "descending = dict(sorted(my_dict.items(), key=lambda item: item[1], reverse=True))\n",
    "print(\"Descending:\", descending)\n",
    "print(\"Ascending:\",asc_dic)"
   ]
  },
  {
   "cell_type": "markdown",
   "id": "c564a8cc",
   "metadata": {},
   "source": [
    "2. Add a Key to a Dictionary"
   ]
  },
  {
   "cell_type": "code",
   "execution_count": 8,
   "id": "f0f0394f",
   "metadata": {},
   "outputs": [
    {
     "data": {
      "text/plain": [
       "{0: 10, 1: 20, 2: 30}"
      ]
     },
     "execution_count": 8,
     "metadata": {},
     "output_type": "execute_result"
    }
   ],
   "source": [
    "a={0: 10, 1: 20}\n",
    "a[2]=30\n",
    "a"
   ]
  },
  {
   "cell_type": "markdown",
   "id": "c5f35878",
   "metadata": {},
   "source": [
    "3. Concatenate Multiple Dictionaries"
   ]
  },
  {
   "cell_type": "code",
   "execution_count": 10,
   "id": "f49fc2eb",
   "metadata": {},
   "outputs": [
    {
     "name": "stdout",
     "output_type": "stream",
     "text": [
      "{1: 10, 2: 20, 3: 30, 4: 40, 5: 50, 6: 60}\n"
     ]
    }
   ],
   "source": [
    "dic1 = {1: 10, 2: 20}\n",
    "dic2 = {3: 30, 4: 40}\n",
    "dic3 = {5: 50, 6: 60}\n",
    "dic1.update(dic2)\n",
    "dic1.update(dic3)\n",
    "print(dic1)\n"
   ]
  },
  {
   "cell_type": "markdown",
   "id": "49e84274",
   "metadata": {},
   "source": [
    "4. Generate a Dictionary with Squares"
   ]
  },
  {
   "cell_type": "code",
   "execution_count": 14,
   "id": "dcb87f1c",
   "metadata": {},
   "outputs": [
    {
     "data": {
      "text/plain": [
       "{1: 1, 2: 4, 3: 9, 4: 16, 5: 25}"
      ]
     },
     "execution_count": 14,
     "metadata": {},
     "output_type": "execute_result"
    }
   ],
   "source": [
    "a=int(input(\"Son kiriting:\"))\n",
    "output_dict={x:x*x for x in range(1,a+1)}\n",
    "output_dict"
   ]
  },
  {
   "cell_type": "markdown",
   "id": "441f0ac7",
   "metadata": {},
   "source": [
    "5. Dictionary of Squares (1 to 15)"
   ]
  },
  {
   "cell_type": "code",
   "execution_count": 15,
   "id": "cf7f4344",
   "metadata": {},
   "outputs": [
    {
     "data": {
      "text/plain": [
       "{1: 1,\n",
       " 2: 4,\n",
       " 3: 9,\n",
       " 4: 16,\n",
       " 5: 25,\n",
       " 6: 36,\n",
       " 7: 49,\n",
       " 8: 64,\n",
       " 9: 81,\n",
       " 10: 100,\n",
       " 11: 121,\n",
       " 12: 144,\n",
       " 13: 169,\n",
       " 14: 196,\n",
       " 15: 225}"
      ]
     },
     "execution_count": 15,
     "metadata": {},
     "output_type": "execute_result"
    }
   ],
   "source": [
    "outputt_dict={x:x*x for x in range(1,16)}\n",
    "outputt_dict\n"
   ]
  },
  {
   "cell_type": "markdown",
   "id": "f0ba18e7",
   "metadata": {},
   "source": [
    "Set Exercises"
   ]
  },
  {
   "cell_type": "markdown",
   "id": "65cb99d7",
   "metadata": {},
   "source": [
    "1. Create a Set"
   ]
  },
  {
   "cell_type": "code",
   "execution_count": 16,
   "id": "bff82e40",
   "metadata": {},
   "outputs": [
    {
     "name": "stdout",
     "output_type": "stream",
     "text": [
      "The created set is: {1, 2, 3, 4, 5}\n"
     ]
    }
   ],
   "source": [
    "\n",
    "my_set = {1, 2, 3, 4, 5}\n",
    "\n",
    "print(\"The created set is:\", my_set)\n"
   ]
  },
  {
   "cell_type": "markdown",
   "id": "f9b32253",
   "metadata": {},
   "source": [
    "2. Iterate Over a Set"
   ]
  },
  {
   "cell_type": "code",
   "execution_count": 18,
   "id": "fc694908",
   "metadata": {},
   "outputs": [
    {
     "name": "stdout",
     "output_type": "stream",
     "text": [
      "1\n",
      "2\n",
      "3\n",
      "4\n",
      "5\n"
     ]
    }
   ],
   "source": [
    "my_set = {1, 2, 3, 4, 5}\n",
    "for x in my_set:\n",
    "    print(x)"
   ]
  },
  {
   "cell_type": "markdown",
   "id": "bf639208",
   "metadata": {},
   "source": [
    "3. Add Member(s) to a Set"
   ]
  },
  {
   "cell_type": "code",
   "execution_count": null,
   "id": "dbbdf73e",
   "metadata": {},
   "outputs": [
    {
     "data": {
      "text/plain": [
       "{1, 2, 3, 4, 8, 15, 16}"
      ]
     },
     "execution_count": 21,
     "metadata": {},
     "output_type": "execute_result"
    }
   ],
   "source": [
    "my_sett = {1, 2, 3, 4}\n",
    "my_sett.add(16)\n",
    "my_sett"
   ]
  },
  {
   "cell_type": "code",
   "execution_count": 24,
   "id": "8adbb107",
   "metadata": {},
   "outputs": [
    {
     "data": {
      "text/plain": [
       "{1, 2, 3, 4, 8, 15}"
      ]
     },
     "execution_count": 24,
     "metadata": {},
     "output_type": "execute_result"
    }
   ],
   "source": [
    "my_sett = {1, 2, 3, 4}\n",
    "my_sett.update([8,15,3])\n",
    "my_sett"
   ]
  },
  {
   "cell_type": "markdown",
   "id": "e87eff30",
   "metadata": {},
   "source": [
    "4. Remove Item(s) from a Set"
   ]
  },
  {
   "cell_type": "code",
   "execution_count": 25,
   "id": "cdcb2959",
   "metadata": {},
   "outputs": [
    {
     "data": {
      "text/plain": [
       "{2, 3, 4}"
      ]
     },
     "execution_count": 25,
     "metadata": {},
     "output_type": "execute_result"
    }
   ],
   "source": [
    "my_sett = {1, 2, 3, 4}\n",
    "my_sett.remove(1)\n",
    "my_sett"
   ]
  },
  {
   "cell_type": "code",
   "execution_count": 27,
   "id": "271d904a",
   "metadata": {},
   "outputs": [
    {
     "data": {
      "text/plain": [
       "{3, 4}"
      ]
     },
     "execution_count": 27,
     "metadata": {},
     "output_type": "execute_result"
    }
   ],
   "source": [
    "my_sett = {1, 2, 3, 4}\n",
    "my_sett.difference_update({2,1})\n",
    "my_sett"
   ]
  },
  {
   "cell_type": "markdown",
   "id": "cf412c8d",
   "metadata": {},
   "source": [
    "5. Remove an Item if Present in the Set"
   ]
  },
  {
   "cell_type": "code",
   "execution_count": 29,
   "id": "e9116794",
   "metadata": {},
   "outputs": [
    {
     "data": {
      "text/plain": [
       "{1, 2, 3, 4, 10, 16}"
      ]
     },
     "execution_count": 29,
     "metadata": {},
     "output_type": "execute_result"
    }
   ],
   "source": [
    "b=int(input(\"Son kiriting:\"))\n",
    "numbers = {1, 2, 3, 4,10,16}\n",
    "if b in numbers:\n",
    "    numbers.remove(b)\n",
    "numbers"
   ]
  },
  {
   "cell_type": "code",
   "execution_count": null,
   "id": "52ccf034",
   "metadata": {},
   "outputs": [],
   "source": []
  }
 ],
 "metadata": {
  "kernelspec": {
   "display_name": "Python 3",
   "language": "python",
   "name": "python3"
  },
  "language_info": {
   "codemirror_mode": {
    "name": "ipython",
    "version": 3
   },
   "file_extension": ".py",
   "mimetype": "text/x-python",
   "name": "python",
   "nbconvert_exporter": "python",
   "pygments_lexer": "ipython3",
   "version": "3.12.9"
  }
 },
 "nbformat": 4,
 "nbformat_minor": 5
}
