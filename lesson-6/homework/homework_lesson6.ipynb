{
 "cells": [
  {
   "cell_type": "markdown",
   "id": "9bcb5869",
   "metadata": {},
   "source": [
    "1. Modify String with Underscores"
   ]
  },
  {
   "cell_type": "code",
   "execution_count": 5,
   "id": "f70d601f",
   "metadata": {},
   "outputs": [
    {
     "name": "stdout",
     "output_type": "stream",
     "text": [
      "hel_lo\n"
     ]
    }
   ],
   "source": [
    "my_tex=\"hello\" \n",
    "used_chars=[\"a\",\"e\",\"i\",\"o\",\"u\"]\n",
    "i=2\n",
    "while i<len(my_tex)-1:\n",
    "    if my_tex[i] not in used_chars:\n",
    "        my_tex=my_tex[:i+1]+\"_\"+my_tex[i+1:]\n",
    "        used_chars.append(my_tex[i])\n",
    "        i+=4\n",
    "    else:\n",
    "        i+=1\n",
    "print(my_tex)"
   ]
  },
  {
   "cell_type": "code",
   "execution_count": 4,
   "id": "05692fc1",
   "metadata": {},
   "outputs": [
    {
     "name": "stdout",
     "output_type": "stream",
     "text": [
      "ass_alom\n"
     ]
    }
   ],
   "source": [
    "my_tex=\"assalom\" \n",
    "used_chars=[\"a\",\"e\",\"i\",\"o\",\"u\"]\n",
    "i=2\n",
    "while i<len(my_tex)-1:\n",
    "    if my_tex[i] not in used_chars:\n",
    "        my_tex=my_tex[:i+1]+\"_\"+my_tex[i+1:]\n",
    "        used_chars.append(my_tex[i])\n",
    "        i+=4\n",
    "    else:\n",
    "        i+=1\n",
    "print(my_tex)"
   ]
  },
  {
   "cell_type": "code",
   "execution_count": 6,
   "id": "7a08be44",
   "metadata": {},
   "outputs": [
    {
     "name": "stdout",
     "output_type": "stream",
     "text": [
      "abc_abcab_cdeabcd_efabcdef_g\n"
     ]
    }
   ],
   "source": [
    "my_tex=\"abcabcabcdeabcdefabcdefg\" \n",
    "used_chars=[\"a\",\"e\",\"i\",\"o\",\"u\"]\n",
    "i=2\n",
    "while i<len(my_tex)-1:\n",
    "    if my_tex[i] not in used_chars:\n",
    "        my_tex=my_tex[:i+1]+\"_\"+my_tex[i+1:]\n",
    "        used_chars.append(my_tex[i])\n",
    "        i+=4\n",
    "    else:\n",
    "        i+=1\n",
    "print(my_tex)"
   ]
  },
  {
   "cell_type": "markdown",
   "id": "a1f79eca",
   "metadata": {},
   "source": [
    "2. Integer Squares Exercise"
   ]
  },
  {
   "cell_type": "code",
   "execution_count": 6,
   "id": "173f7da2",
   "metadata": {},
   "outputs": [
    {
     "name": "stdout",
     "output_type": "stream",
     "text": [
      "Mos bo`lmagan son\n"
     ]
    }
   ],
   "source": [
    "a=int(input(\"Son kiriting:\"))\n",
    "if 1<=a<=20:\n",
    "    for x in range(0,a):\n",
    "        print(pow(x,2))\n",
    "else:\n",
    "    print(\"Mos bo`lmagan son\")\n",
    "    \n"
   ]
  },
  {
   "cell_type": "markdown",
   "id": "8b5cb0a6",
   "metadata": {},
   "source": [
    "3. Loop-Based Exercises"
   ]
  },
  {
   "cell_type": "markdown",
   "id": "d8b02765",
   "metadata": {},
   "source": [
    "Exercise 1: Print first 10 natural numbers using a while loop"
   ]
  },
  {
   "cell_type": "code",
   "execution_count": 8,
   "id": "2d5983da",
   "metadata": {},
   "outputs": [
    {
     "name": "stdout",
     "output_type": "stream",
     "text": [
      "1\n",
      "2\n",
      "3\n",
      "4\n",
      "5\n",
      "6\n",
      "7\n",
      "8\n",
      "9\n",
      "10\n"
     ]
    }
   ],
   "source": [
    "b=1\n",
    "while b<=10:\n",
    "    print(b)\n",
    "    b=b+1"
   ]
  },
  {
   "cell_type": "markdown",
   "id": "db9b68cd",
   "metadata": {},
   "source": [
    "Exercise 2: Print the following pattern"
   ]
  },
  {
   "cell_type": "code",
   "execution_count": 35,
   "id": "91203490",
   "metadata": {},
   "outputs": [
    {
     "name": "stdout",
     "output_type": "stream",
     "text": [
      "1 \n",
      "1 2 \n",
      "1 2 3 \n",
      "1 2 3 4 \n",
      "1 2 3 4 5 \n"
     ]
    }
   ],
   "source": [
    "c = 5\n",
    "for i in range(1, c+1):\n",
    "    for j in range(1, i+1):\n",
    "        print(j, end=\" \")\n",
    "    print()\n"
   ]
  },
  {
   "cell_type": "markdown",
   "id": "f6a00f2a",
   "metadata": {},
   "source": [
    "Exercise 3: Calculate sum of all numbers from 1 to a given number"
   ]
  },
  {
   "cell_type": "code",
   "execution_count": 22,
   "id": "eed9380f",
   "metadata": {},
   "outputs": [
    {
     "name": "stdout",
     "output_type": "stream",
     "text": [
      "55\n"
     ]
    }
   ],
   "source": [
    "c=int(input(\"Son kiriting:\"))\n",
    "print(sum(range(1,c+1)))"
   ]
  },
  {
   "cell_type": "markdown",
   "id": "0ade5198",
   "metadata": {},
   "source": [
    "Exercise 4: Print multiplication table of a given number"
   ]
  },
  {
   "cell_type": "code",
   "execution_count": 23,
   "id": "99a88869",
   "metadata": {},
   "outputs": [
    {
     "name": "stdout",
     "output_type": "stream",
     "text": [
      "2\n",
      "4\n",
      "6\n",
      "8\n",
      "10\n",
      "12\n",
      "14\n",
      "16\n",
      "18\n",
      "20\n"
     ]
    }
   ],
   "source": [
    "d=int(input('Son kiriting'))\n",
    "for x in range(1,11):\n",
    "    print(x*d)"
   ]
  },
  {
   "cell_type": "markdown",
   "id": "32b84e5c",
   "metadata": {},
   "source": [
    "Exercise 5: Display numbers from a list using a loop"
   ]
  },
  {
   "cell_type": "code",
   "execution_count": 70,
   "id": "86838c71",
   "metadata": {},
   "outputs": [
    {
     "name": "stdout",
     "output_type": "stream",
     "text": [
      "75\n",
      "150\n",
      "145\n"
     ]
    }
   ],
   "source": [
    "numbers = [12, 75, 150, 180, 145, 525, 50]\n",
    "for x in numbers:\n",
    "    if 75<=x<=150:\n",
    "         print(x)\n",
    "        "
   ]
  },
  {
   "cell_type": "markdown",
   "id": "508c9c01",
   "metadata": {},
   "source": [
    "Exercise 6: Count the total number of digits in a number"
   ]
  },
  {
   "cell_type": "code",
   "execution_count": 25,
   "id": "b159d6fc",
   "metadata": {},
   "outputs": [
    {
     "name": "stdout",
     "output_type": "stream",
     "text": [
      "6\n"
     ]
    }
   ],
   "source": [
    "e=int(input('Son kiriting'))\n",
    "print(len(str(e)))"
   ]
  },
  {
   "cell_type": "markdown",
   "id": "2e4b4d9c",
   "metadata": {},
   "source": [
    "Exercise 7: Print reverse number pattern"
   ]
  },
  {
   "cell_type": "code",
   "execution_count": 38,
   "id": "b3ad585c",
   "metadata": {},
   "outputs": [
    {
     "name": "stdout",
     "output_type": "stream",
     "text": [
      "5 4 3 2 1 \n",
      "4 3 2 1 \n",
      "3 2 1 \n",
      "2 1 \n",
      "1 \n"
     ]
    }
   ],
   "source": [
    "\n",
    "c = 5\n",
    "for i in reversed(range(1, c+1)):\n",
    "    for j in reversed(range(1, i+1)):\n",
    "        print(j, end=\" \")\n",
    "    print()"
   ]
  },
  {
   "cell_type": "markdown",
   "id": "b5e7e972",
   "metadata": {},
   "source": [
    "Exercise 8: Print list in reverse order using a loop"
   ]
  },
  {
   "cell_type": "code",
   "execution_count": 40,
   "id": "853ddce8",
   "metadata": {},
   "outputs": [
    {
     "name": "stdout",
     "output_type": "stream",
     "text": [
      "50\n",
      "40\n",
      "30\n",
      "20\n",
      "10\n"
     ]
    }
   ],
   "source": [
    "list1 = [10, 20, 30, 40, 50]\n",
    "for x in reversed(list1):\n",
    "    print(x)"
   ]
  },
  {
   "cell_type": "markdown",
   "id": "a13fd1a2",
   "metadata": {},
   "source": [
    "Exercise 9: Display numbers from -10 to -1 using a for loop"
   ]
  },
  {
   "cell_type": "code",
   "execution_count": 41,
   "id": "fbc9eec5",
   "metadata": {},
   "outputs": [
    {
     "name": "stdout",
     "output_type": "stream",
     "text": [
      "-10\n",
      "-9\n",
      "-8\n",
      "-7\n",
      "-6\n",
      "-5\n",
      "-4\n",
      "-3\n",
      "-2\n",
      "-1\n"
     ]
    }
   ],
   "source": [
    "for x in range(-10,0):\n",
    "    print(x)"
   ]
  },
  {
   "cell_type": "markdown",
   "id": "b83baa4b",
   "metadata": {},
   "source": [
    "Exercise 10: Display message “Done” after successful loop execution"
   ]
  },
  {
   "cell_type": "code",
   "execution_count": 43,
   "id": "bed71470",
   "metadata": {},
   "outputs": [
    {
     "name": "stdout",
     "output_type": "stream",
     "text": [
      "0\n",
      "1\n",
      "2\n",
      "3\n",
      "4\n",
      "Done!\n"
     ]
    }
   ],
   "source": [
    "for x in range(0,5):\n",
    "    print(x)\n",
    "print('Done!')"
   ]
  },
  {
   "cell_type": "markdown",
   "id": "2f8aeffb",
   "metadata": {},
   "source": [
    "Exercise 11: Print all prime numbers within a range"
   ]
  },
  {
   "cell_type": "code",
   "execution_count": 1,
   "id": "7a9cc66d",
   "metadata": {},
   "outputs": [
    {
     "name": "stdout",
     "output_type": "stream",
     "text": [
      "All prime number between 25 and 50 :\n",
      "29\n",
      "31\n",
      "37\n",
      "41\n",
      "43\n",
      "47\n"
     ]
    }
   ],
   "source": [
    "a=25\n",
    "b=50\n",
    "\n",
    "print(f\"All prime number between {a} and {b} :\")\n",
    "for x in range(a,b+1):\n",
    "    if x>1:\n",
    "        for i in range(2, int(x**0.5)+1):\n",
    "            if x%i==0:\n",
    "                break\n",
    "        else:\n",
    "            print(x)\n"
   ]
  },
  {
   "cell_type": "markdown",
   "id": "7857c678",
   "metadata": {},
   "source": [
    "Exercise 12: Display Fibonacci series up to 10 terms"
   ]
  },
  {
   "cell_type": "code",
   "execution_count": 2,
   "id": "d4af1e24",
   "metadata": {},
   "outputs": [
    {
     "name": "stdout",
     "output_type": "stream",
     "text": [
      "Fibonacci sequence:\n",
      "0  1  1  2  3  5  8  13  21  34  "
     ]
    }
   ],
   "source": [
    "n = 10\n",
    "a, b = 0, 1\n",
    "\n",
    "print(\"Fibonacci sequence:\")\n",
    "for i in range(n):\n",
    "    print(a, end=\"  \")\n",
    "    a, b = b, a + b\n"
   ]
  },
  {
   "cell_type": "markdown",
   "id": "f0326010",
   "metadata": {},
   "source": [
    "Exercise 13: Find the factorial of a given number"
   ]
  },
  {
   "cell_type": "code",
   "execution_count": 50,
   "id": "7d0df525",
   "metadata": {},
   "outputs": [
    {
     "name": "stdout",
     "output_type": "stream",
     "text": [
      "720\n"
     ]
    }
   ],
   "source": [
    "h=int(input('Son kiriting:'))\n",
    "g=1\n",
    "for x in range(1,h+1):\n",
    "    g*=x\n",
    "print(g)"
   ]
  },
  {
   "cell_type": "markdown",
   "id": "0e568bb0",
   "metadata": {},
   "source": [
    "4. Return Uncommon Elements of Lists"
   ]
  },
  {
   "cell_type": "code",
   "execution_count": 61,
   "id": "fd747768",
   "metadata": {},
   "outputs": [
    {
     "name": "stdout",
     "output_type": "stream",
     "text": [
      "[2, 2, 5]\n"
     ]
    }
   ],
   "source": [
    "list1 = [1, 1, 2]\n",
    "list2 = [2, 3, 4]\n",
    "\n",
    "common = set(list1) & set(list2)\n",
    "\n",
    "result = [x for x in list1 + list2 if x not in common]\n",
    "\n",
    "print(result)\n",
    "\n"
   ]
  },
  {
   "cell_type": "code",
   "execution_count": null,
   "id": "1a166d1d",
   "metadata": {},
   "outputs": [],
   "source": [
    "list1 = [1, 1, 2, 3, 4, 2]\n",
    "list2 = [1, 3, 4, 5]\n",
    "\n",
    "common = set(list1) & set(list2)\n",
    "\n",
    "result = [x for x in list1 + list2 if x not in common]\n",
    "\n",
    "print(result)"
   ]
  },
  {
   "cell_type": "code",
   "execution_count": null,
   "id": "0fef2b41",
   "metadata": {},
   "outputs": [],
   "source": [
    "list1 = [1, 2, 3]\n",
    "list2 = [4, 5, 6]\n",
    "\n",
    "\n",
    "common = set(list1) & set(list2)\n",
    "\n",
    "result = [x for x in list1 + list2 if x not in common]\n",
    "\n",
    "print(result)"
   ]
  }
 ],
 "metadata": {
  "kernelspec": {
   "display_name": "Python 3",
   "language": "python",
   "name": "python3"
  },
  "language_info": {
   "codemirror_mode": {
    "name": "ipython",
    "version": 3
   },
   "file_extension": ".py",
   "mimetype": "text/x-python",
   "name": "python",
   "nbconvert_exporter": "python",
   "pygments_lexer": "ipython3",
   "version": "3.12.9"
  }
 },
 "nbformat": 4,
 "nbformat_minor": 5
}
