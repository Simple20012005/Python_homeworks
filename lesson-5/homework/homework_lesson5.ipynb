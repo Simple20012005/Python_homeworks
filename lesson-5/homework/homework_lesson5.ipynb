{
 "cells": [
  {
   "cell_type": "markdown",
   "id": "162fe4b3",
   "metadata": {},
   "source": [
    "1."
   ]
  },
  {
   "cell_type": "code",
   "execution_count": 5,
   "id": "7bac5238",
   "metadata": {},
   "outputs": [
    {
     "name": "stdout",
     "output_type": "stream",
     "text": [
      "False\n"
     ]
    }
   ],
   "source": [
    "year=int(input())\n",
    "if (year % 4==0 or year % 5==0) and year % 400==0:\n",
    "    print('True')\n",
    "else:\n",
    "    print('False')"
   ]
  },
  {
   "cell_type": "markdown",
   "id": "519ec0bd",
   "metadata": {},
   "source": [
    "2. Conditional Statements Exercise"
   ]
  },
  {
   "cell_type": "code",
   "execution_count": 11,
   "id": "fade15a5",
   "metadata": {},
   "outputs": [
    {
     "name": "stdout",
     "output_type": "stream",
     "text": [
      "Weird\n"
     ]
    }
   ],
   "source": [
    "n=int(input('Enter a number:'))\n",
    "if 1 <= n <= 100:\n",
    "    if n % 2==1:\n",
    "        print('Weird')\n",
    "    elif n % 2==0 and 2<=n<=5:\n",
    "        print('Not Weird')\n",
    "    elif n % 2==0 and 6<=n<=20:\n",
    "        print('Weird')\n",
    "    else:\n",
    "        print('Not Weird')\n",
    "else:\n",
    "    print('Invalid number')"
   ]
  },
  {
   "cell_type": "markdown",
   "id": "b97bc558",
   "metadata": {},
   "source": [
    "3.Given two integer numbers a and b. Find even numbers between this numbers. a and b are inclusive. Don't use loop."
   ]
  },
  {
   "cell_type": "markdown",
   "id": "d0b10a56",
   "metadata": {},
   "source": [
    "Solution:with if"
   ]
  },
  {
   "cell_type": "code",
   "execution_count": 19,
   "id": "13f23da4",
   "metadata": {},
   "outputs": [
    {
     "data": {
      "text/plain": [
       "[12, 14, 16, 18, 20]"
      ]
     },
     "execution_count": 19,
     "metadata": {},
     "output_type": "execute_result"
    }
   ],
   "source": [
    "a=int(input('Enter a starting number:'))\n",
    "b=int(input('Enter a ending number:'))\n",
    "if a%2==1:\n",
    "    a+=1\n",
    "list(range(a,b+1,2))"
   ]
  },
  {
   "cell_type": "markdown",
   "id": "6f0b3853",
   "metadata": {},
   "source": [
    "Solution:without if"
   ]
  },
  {
   "cell_type": "code",
   "execution_count": null,
   "id": "ac8b4e81",
   "metadata": {},
   "outputs": [
    {
     "data": {
      "text/plain": [
       "[12, 14, 16, 18, 20]"
      ]
     },
     "execution_count": 18,
     "metadata": {},
     "output_type": "execute_result"
    }
   ],
   "source": [
    "a=int(input(\"enter a number: \"))\n",
    "b=int(input(\"enter a number: \"))\n",
    "start=a+(a%2)\n",
    "list(range(start,b+1,2))"
   ]
  }
 ],
 "metadata": {
  "kernelspec": {
   "display_name": "Python 3",
   "language": "python",
   "name": "python3"
  },
  "language_info": {
   "codemirror_mode": {
    "name": "ipython",
    "version": 3
   },
   "file_extension": ".py",
   "mimetype": "text/x-python",
   "name": "python",
   "nbconvert_exporter": "python",
   "pygments_lexer": "ipython3",
   "version": "3.12.9"
  }
 },
 "nbformat": 4,
 "nbformat_minor": 5
}
